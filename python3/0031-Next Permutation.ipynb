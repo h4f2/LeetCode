{
 "cells": [
  {
   "cell_type": "markdown",
   "metadata": {},
   "source": [
    "##### A permutation of an array of integers is an arrangement of its members into a sequence or linear order.\n",
    "\n",
    "##### For example, for arr = [1,2,3], the following are considered permutations of arr: [1,2,3], [1,3,2], [3,1,2], [2,3,1].\n",
    "##### The next permutation of an array of integers is the next lexicographically greater permutation of its integer. More formally,\n",
    "##### if all the permutations of the array are sorted in one container according to their lexicographical order,\n",
    "##### then the next permutation of that array is the permutation that follows it in the sorted container.\n",
    "##### If such arrangement is not possible, the array must be rearranged as the lowest possible order (i.e., sorted in ascending order).\n",
    "\n",
    "##### For example, the next permutation of arr = [1,2,3] is [1,3,2].\n",
    "##### Similarly, the next permutation of arr = [2,3,1] is [3,1,2].\n",
    "##### While the next permutation of arr = [3,2,1] is [1,2,3] because [3,2,1] does not have a lexicographical larger rearrangement.\n",
    "##### Given an array of integers nums, find the next permutation of nums.\n",
    "\n",
    "##### The replacement must be in place and use only constant extra memory.\n",
    "\n",
    "</br>\n",
    "\n",
    "**Constraints:**  \n",
    "* 1 <= nums.length <= 100\n",
    "* 0 <= nums[i] <= 100\n",
    "\n",
    "\n",
    "**Example 1:**  \n",
    "```\n",
    "Input: nums = [1,2,3]\n",
    "Output: [1,3,2]\n",
    "```  \n",
    "\n",
    "**Example 2:**  \n",
    "```\n",
    "Input: nums = [3,2,1]\n",
    "Output: [1,2,3]\n",
    "```\n",
    "\n",
    "**Example 3:**  \n",
    "```\n",
    "Input: nums = [1,1,5]\n",
    "Output: [1,5,1]\n",
    "```"
   ]
  },
  {
   "cell_type": "code",
   "execution_count": 1,
   "metadata": {
    "jupyter": {
     "source_hidden": true
    },
    "tags": []
   },
   "outputs": [],
   "source": [
    "testcase = ([1,2,3],\n",
    "            [3,2,1],\n",
    "            [1,1,5])\n",
    "            \n",
    "\n",
    "answer = ([1,3,2],\n",
    "          [1,2,3],\n",
    "          [1,5,1])"
   ]
  },
  {
   "cell_type": "code",
   "execution_count": 2,
   "metadata": {
    "jupyter": {
     "source_hidden": true
    },
    "tags": []
   },
   "outputs": [],
   "source": [
    "import time\n",
    "\n",
    "def test(testcase, answer):\n",
    "    solution = Solution()\n",
    "    _result = []\n",
    "    _time = 0\n",
    "    for i, case in enumerate(testcase):\n",
    "        start = time.perf_counter()\n",
    "        output = case.copy()\n",
    "        solution.nextPermutation(output)\n",
    "        process_time = time.perf_counter() - start\n",
    "        result = 'Pass' if output==answer[i] else 'Fail'\n",
    "\n",
    "        _time += process_time\n",
    "        _result.append(result)\n",
    "        \n",
    "        print(f'Case {i+1} : input  -> {case} ')\n",
    "        print(f'\\t output -> {output}{\" \"*15}')\n",
    "        print(f'Result : {result}  Time : {process_time:.7f}\\n')\n",
    "    \n",
    "    _result = 'Pass' if 'Fail' not in _result else 'Fail'\n",
    "    print('-' * 50 + f'\\nResult : {_result}  Time : {_time:.7f}')"
   ]
  },
  {
   "cell_type": "code",
   "execution_count": 3,
   "metadata": {},
   "outputs": [
    {
     "name": "stdout",
     "output_type": "stream",
     "text": [
      "Case 1 : input  -> [1, 2, 3] \n",
      "\t output -> [1, 3, 2]               \n",
      "Result : Pass  Time : 0.0000110\n",
      "\n",
      "Case 2 : input  -> [3, 2, 1] \n",
      "\t output -> [1, 2, 3]               \n",
      "Result : Pass  Time : 0.0000049\n",
      "\n",
      "Case 3 : input  -> [1, 1, 5] \n",
      "\t output -> [1, 5, 1]               \n",
      "Result : Pass  Time : 0.0000080\n",
      "\n",
      "--------------------------------------------------\n",
      "Result : Pass  Time : 0.0000239\n"
     ]
    }
   ],
   "source": [
    "# Two pointers\n",
    "class Solution:\n",
    "    def nextPermutation(self, nums) -> None:\n",
    "        \"\"\"Do not return anything, modify nums in-place instead.\"\"\"\n",
    "        l = len(nums)\n",
    "        p = l - 2\n",
    "        while p >= 0:\n",
    "            if nums[p] >= nums[p+1]:\n",
    "                p -= 1\n",
    "            else:\n",
    "                for p2 in range(l-1, p, -1):\n",
    "                    if nums[p2] > nums[p]:\n",
    "                        nums[p], nums[p2] = nums[p2], nums[p]\n",
    "                        nums[p+1:] = sorted(nums[p+1:])\n",
    "                        return\n",
    "        nums.reverse()\n",
    "        \n",
    "test(testcase, answer)"
   ]
  },
  {
   "cell_type": "code",
   "execution_count": 4,
   "metadata": {},
   "outputs": [
    {
     "name": "stdout",
     "output_type": "stream",
     "text": [
      "Case 1 : input  -> [1, 2, 3] \n",
      "\t output -> [1, 3, 2]               \n",
      "Result : Pass  Time : 0.0000132\n",
      "\n",
      "Case 2 : input  -> [3, 2, 1] \n",
      "\t output -> [1, 2, 3]               \n",
      "Result : Pass  Time : 0.0000065\n",
      "\n",
      "Case 3 : input  -> [1, 1, 5] \n",
      "\t output -> [1, 5, 1]               \n",
      "Result : Pass  Time : 0.0000064\n",
      "\n",
      "--------------------------------------------------\n",
      "Result : Pass  Time : 0.0000261\n"
     ]
    }
   ],
   "source": [
    "class Solution:\n",
    "    def nextPermutation(self, nums) -> None:\n",
    "        \"\"\"Do not return anything, modify nums in-place instead.\"\"\"\n",
    "        l = len(nums)\n",
    "        \n",
    "        for i in range(l-1,0,-1):\n",
    "            if nums[i] > nums[i-1]:\n",
    "                p = nums[i-1]\n",
    "                _nums = nums[i:]\n",
    "                k = len(_nums) - 1\n",
    "                \n",
    "                for j in range(len(_nums)):\n",
    "                    if _nums[j] <= p:\n",
    "                        k = j-1\n",
    "                        break\n",
    "                        \n",
    "                _nums[k], p = p, _nums[k]\n",
    "                nums[:] = nums[:i-1] + [p] + _nums[::-1]\n",
    "                return\n",
    "            \n",
    "        nums.reverse()\n",
    "        \n",
    "test(testcase, answer)"
   ]
  }
 ],
 "metadata": {
  "kernelspec": {
   "display_name": "Python 3",
   "language": "python",
   "name": "python3"
  },
  "language_info": {
   "codemirror_mode": {
    "name": "ipython",
    "version": 3
   },
   "file_extension": ".py",
   "mimetype": "text/x-python",
   "name": "python",
   "nbconvert_exporter": "python",
   "pygments_lexer": "ipython3",
   "version": "3.8.3"
  }
 },
 "nbformat": 4,
 "nbformat_minor": 4
}
