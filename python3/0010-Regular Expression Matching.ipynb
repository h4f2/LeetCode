{
 "cells": [
  {
   "cell_type": "markdown",
   "metadata": {
    "tags": []
   },
   "source": [
    "##### Given an input string s and a pattern p, implement regular expression matching with support for '.' and '*' where:\n",
    "* '.' Matches any single character.\n",
    "* '*' Matches zero or more of the preceding element.\n",
    "\n",
    "##### The matching should cover the entire input string (not partial).\n",
    "\n",
    "<br>  \n",
    "\n",
    "**Constraints:**  \n",
    "* 1 <= s.length <= 20\n",
    "* 1 <= p.length <= 30\n",
    "* s contains only lowercase English letters.\n",
    "* p contains only lowercase English letters, '.', and '*'.\n",
    "* It is guaranteed for each appearance of the character '*', there will be a previous valid character to match.\n",
    "\n",
    "**Example 1:**\n",
    "```\n",
    "Input: s = \"aa\", p = \"a\"\n",
    "Output: false\n",
    "Explanation: \"a\" does not match the entire string \"aa\".\n",
    "```  \n",
    "\n",
    "**Example 2:**  \n",
    "```\n",
    "Input: s = \"aa\", p = \"a*\"\n",
    "Output: true\n",
    "Explanation: '*' means zero or more of the preceding element, 'a'. Therefore, by repeating 'a' once, it becomes \"aa\".\n",
    "```\n",
    "\n",
    "**Example 3:**  \n",
    "```\n",
    "Input: s = \"ab\", p = \".*\"\n",
    "Output: true\n",
    "Explanation: \".*\" means \"zero or more (*) of any character (.)\".\n",
    "```"
   ]
  },
  {
   "cell_type": "code",
   "execution_count": 1,
   "metadata": {},
   "outputs": [],
   "source": [
    "testcase = (['aa','a'],\n",
    "            ['aa','a*'],\n",
    "            ['ab','.*'],\n",
    "            [\"aaa\",\"ab*a*c*a\"])\n",
    "\n",
    "answer = (False,\n",
    "          True,\n",
    "          True,\n",
    "          True)"
   ]
  },
  {
   "cell_type": "code",
   "execution_count": 2,
   "metadata": {},
   "outputs": [],
   "source": [
    "import time\n",
    "\n",
    "def test(testcase, answer):\n",
    "    solution = Solution()\n",
    "    _result = []\n",
    "    _time = 0\n",
    "\n",
    "    for i, case in enumerate(testcase):\n",
    "        start = time.perf_counter()\n",
    "        output = solution.isMatch(*case)\n",
    "        process_time = time.perf_counter() - start\n",
    "        result = 'Pass' if output == answer[i] else 'Fail'\n",
    "\n",
    "        _time += process_time\n",
    "        _result.append(result)\n",
    "        \n",
    "        print(f'Case {i+1} : input  -> {case} ')\n",
    "        print(f'\\t output -> {output}{\" \"*15}')\n",
    "        print(f'Result : {result}  Time : {process_time:.7f}\\n')\n",
    "    \n",
    "    _result = 'Pass' if 'Fail' not in _result else 'Fail'\n",
    "    print('-' * 50 + f'\\nResult : {_result}  Time : {_time:.7f}')"
   ]
  },
  {
   "cell_type": "code",
   "execution_count": 3,
   "metadata": {},
   "outputs": [
    {
     "name": "stdout",
     "output_type": "stream",
     "text": [
      "Case 1 : input  -> ['aa', 'a'] \n",
      "\t output -> False               \n",
      "Result : Pass  Time : 0.0000136\n",
      "\n",
      "Case 2 : input  -> ['aa', 'a*'] \n",
      "\t output -> True               \n",
      "Result : Pass  Time : 0.0000206\n",
      "\n",
      "Case 3 : input  -> ['ab', '.*'] \n",
      "\t output -> True               \n",
      "Result : Pass  Time : 0.0000126\n",
      "\n",
      "Case 4 : input  -> ['aaa', 'ab*a*c*a'] \n",
      "\t output -> True               \n",
      "Result : Pass  Time : 0.0000397\n",
      "\n",
      "--------------------------------------------------\n",
      "Result : Pass  Time : 0.0000865\n"
     ]
    }
   ],
   "source": [
    "# Dynamic Programming\n",
    "\n",
    "class Solution:\n",
    "    def isMatch(self, s: str, p: str) -> bool:\n",
    "        _s = ' ' + s\n",
    "        _p = ' ' + p\n",
    "        res = [[] for i in range(len(_s))]\n",
    "\n",
    "        for i in range(len(_s)):\n",
    "            for j in range(len(_p)):\n",
    "                res[i] += [i + j == 0]\n",
    "\n",
    "                if _p[j] in (_s[i], '.') and i:\n",
    "                    res[i][j] = res[i-1][j-1]\n",
    "                \n",
    "                elif _p[j] == '*':\n",
    "                    if res[i][j-2]:\n",
    "                        res[i][j] = True\n",
    "                    elif _p[j-1] in (_s[i], '.') and i:\n",
    "                        res[i][j] = res[i-1][j]\n",
    "\n",
    "        return res[-1][-1]\n",
    "        \n",
    "test(testcase,answer)"
   ]
  },
  {
   "cell_type": "code",
   "execution_count": 4,
   "metadata": {},
   "outputs": [
    {
     "name": "stdout",
     "output_type": "stream",
     "text": [
      "Case 1 : input  -> ['aa', 'a'] \n",
      "\t output -> False               \n",
      "Result : Pass  Time : 0.0000072\n",
      "\n",
      "Case 2 : input  -> ['aa', 'a*'] \n",
      "\t output -> True               \n",
      "Result : Pass  Time : 0.0000150\n",
      "\n",
      "Case 3 : input  -> ['ab', '.*'] \n",
      "\t output -> True               \n",
      "Result : Pass  Time : 0.0000094\n",
      "\n",
      "Case 4 : input  -> ['aaa', 'ab*a*c*a'] \n",
      "\t output -> True               \n",
      "Result : Pass  Time : 0.0000159\n",
      "\n",
      "--------------------------------------------------\n",
      "Result : Pass  Time : 0.0000475\n"
     ]
    }
   ],
   "source": [
    "# 參考 Dynamic Programming(遞迴反向)\n",
    "\n",
    "class Solution():\n",
    "    def isMatch(self, text: str, pattern: str) -> bool:\n",
    "        memo = {}\n",
    "        def dp(i, j):\n",
    "            if (i, j) not in memo:\n",
    "                if j == len(pattern):\n",
    "                    ans = i == len(text)\n",
    "                else:\n",
    "                    first_match = i < len(text) and pattern[j] in {text[i], '.'}\n",
    "                    if j+1 < len(pattern) and pattern[j+1] == '*':\n",
    "                        ans = dp(i, j+2) or first_match and dp(i+1, j)\n",
    "                    else:\n",
    "                        ans = first_match and dp(i+1, j+1)\n",
    "                memo[i, j] = ans\n",
    "            return memo[i, j]\n",
    "            \n",
    "        return dp(0, 0)\n",
    "        \n",
    "test(testcase,answer)"
   ]
  },
  {
   "cell_type": "code",
   "execution_count": 5,
   "metadata": {},
   "outputs": [
    {
     "name": "stdout",
     "output_type": "stream",
     "text": [
      "Case 1 : input  -> ['aa', 'a'] \n",
      "\t output -> False               \n",
      "Result : Pass  Time : 0.0000052\n",
      "\n",
      "Case 2 : input  -> ['aa', 'a*'] \n",
      "\t output -> True               \n",
      "Result : Pass  Time : 0.0000073\n",
      "\n",
      "Case 3 : input  -> ['ab', '.*'] \n",
      "\t output -> True               \n",
      "Result : Pass  Time : 0.0000052\n",
      "\n",
      "Case 4 : input  -> ['aaa', 'ab*a*c*a'] \n",
      "\t output -> True               \n",
      "Result : Pass  Time : 0.0000108\n",
      "\n",
      "--------------------------------------------------\n",
      "Result : Pass  Time : 0.0000285\n"
     ]
    }
   ],
   "source": [
    "# 參考(暴力解)\n",
    "\n",
    "class Solution():\n",
    "    def isMatch(self, text: str, pattern: str) -> bool:\n",
    "        if not pattern:\n",
    "            return not text\n",
    "\n",
    "        first_match = bool(text) and pattern[0] in {text[0], '.'}\n",
    "\n",
    "        if len(pattern) >= 2 and pattern[1] == '*':\n",
    "            return (self.isMatch(text, pattern[2:]) or\n",
    "                    first_match and self.isMatch(text[1:], pattern))\n",
    "        else:\n",
    "            return first_match and self.isMatch(text[1:], pattern[1:])\n",
    "\n",
    "test(testcase,answer)"
   ]
  }
 ],
 "metadata": {
  "kernelspec": {
   "display_name": "Python 3",
   "language": "python",
   "name": "python3"
  },
  "language_info": {
   "codemirror_mode": {
    "name": "ipython",
    "version": 3
   },
   "file_extension": ".py",
   "mimetype": "text/x-python",
   "name": "python",
   "nbconvert_exporter": "python",
   "pygments_lexer": "ipython3",
   "version": "3.8.3"
  }
 },
 "nbformat": 4,
 "nbformat_minor": 4
}
