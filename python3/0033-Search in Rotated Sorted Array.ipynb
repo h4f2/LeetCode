{
 "cells": [
  {
   "cell_type": "markdown",
   "metadata": {},
   "source": [
    "##### There is an integer array nums sorted in ascending order (with distinct values).\n",
    "\n",
    "##### Prior to being passed to your function, nums is possibly rotated at an unknown pivot index k (1 <= k < nums.length)\n",
    "##### such that the resulting array is [nums[k], nums[k+1], ..., nums[n-1], nums[0], nums[1], ..., nums[k-1]] (0-indexed).\n",
    "##### For example, [0,1,2,4,5,6,7] might be rotated at pivot index 3 and become [4,5,6,7,0,1,2].\n",
    "\n",
    "##### Given the array nums after the possible rotation and an integer target, return the index of target if it is in nums,\n",
    "##### or -1 if it is not in nums.\n",
    "\n",
    "##### You must write an algorithm with O(log n) runtime complexity.\n",
    "\n",
    "</br>\n",
    "\n",
    "**Constraints:**  \n",
    "* 1 <= nums.length <= 5000\n",
    "* -10$^4$ <= nums[i] <= 10$^4$\n",
    "* All values of nums are unique.\n",
    "* nums is an ascending array that is possibly rotated.\n",
    "* -10$^4$ <= target <= 10$^4$\n",
    "\n",
    "\n",
    "**Example 1:**  \n",
    "```\n",
    "Input: nums = [4,5,6,7,0,1,2], target = 0\n",
    "Output: 4\n",
    "```  \n",
    "\n",
    "**Example 2:**  \n",
    "```\n",
    "Input: nums = [4,5,6,7,0,1,2], target = 3\n",
    "Output: -1\n",
    "```\n",
    "\n",
    "**Example 3:**  \n",
    "```\n",
    "Input: nums = [1], target = 0\n",
    "Output: -1\n",
    "```"
   ]
  },
  {
   "cell_type": "code",
   "execution_count": 1,
   "metadata": {
    "jupyter": {
     "source_hidden": true
    },
    "tags": []
   },
   "outputs": [],
   "source": [
    "testcase = ([[4,5,6,7,0,1,2], 0],\n",
    "            [[4,5,6,7,0,1,2], 3],\n",
    "            [[1], 0])\n",
    "            \n",
    "\n",
    "answer = (4,\n",
    "          -1,\n",
    "          -1)"
   ]
  },
  {
   "cell_type": "code",
   "execution_count": 2,
   "metadata": {
    "jupyter": {
     "source_hidden": true
    },
    "tags": []
   },
   "outputs": [],
   "source": [
    "import time\n",
    "\n",
    "def test(testcase, answer):\n",
    "    solution = Solution()\n",
    "    _result = []\n",
    "    _time = 0\n",
    "\n",
    "    for i, case in enumerate(testcase):\n",
    "        start = time.perf_counter()\n",
    "        output = solution.search(*case)\n",
    "        process_time = time.perf_counter() - start\n",
    "        result = 'Pass' if output==answer[i] else 'Fail'\n",
    "\n",
    "        _time += process_time\n",
    "        _result.append(result)\n",
    "        \n",
    "        print(f'Case {i+1} : input  -> {case} ')\n",
    "        print(f'\\t output -> {output}{\" \"*15}')\n",
    "        print(f'Result : {result}  Time : {process_time:.7f}\\n')\n",
    "    \n",
    "    _result = 'Pass' if 'Fail' not in _result else 'Fail'\n",
    "    print('-' * 50 + f'\\nResult : {_result}  Time : {_time:.7f}')"
   ]
  },
  {
   "cell_type": "code",
   "execution_count": 3,
   "metadata": {},
   "outputs": [
    {
     "name": "stdout",
     "output_type": "stream",
     "text": [
      "Case 1 : input  -> [[4, 5, 6, 7, 0, 1, 2], 0] \n",
      "\t output -> 4               \n",
      "Result : Pass  Time : 0.0000027\n",
      "\n",
      "Case 2 : input  -> [[4, 5, 6, 7, 0, 1, 2], 3] \n",
      "\t output -> -1               \n",
      "Result : Pass  Time : 0.0000031\n",
      "\n",
      "Case 3 : input  -> [[1], 0] \n",
      "\t output -> -1               \n",
      "Result : Pass  Time : 0.0000013\n",
      "\n",
      "--------------------------------------------------\n",
      "Result : Pass  Time : 0.0000071\n"
     ]
    }
   ],
   "source": [
    "class Solution:\n",
    "    def search(self, nums: list(), target: int) -> int:\n",
    "        return nums.index(target) if target in nums else -1\n",
    "        \n",
    "test(testcase, answer)"
   ]
  },
  {
   "cell_type": "code",
   "execution_count": 4,
   "metadata": {},
   "outputs": [
    {
     "name": "stdout",
     "output_type": "stream",
     "text": [
      "Case 1 : input  -> [[4, 5, 6, 7, 0, 1, 2], 0] \n",
      "\t output -> 4               \n",
      "Result : Pass  Time : 0.0000040\n",
      "\n",
      "Case 2 : input  -> [[4, 5, 6, 7, 0, 1, 2], 3] \n",
      "\t output -> -1               \n",
      "Result : Pass  Time : 0.0000034\n",
      "\n",
      "Case 3 : input  -> [[1], 0] \n",
      "\t output -> -1               \n",
      "Result : Pass  Time : 0.0000027\n",
      "\n",
      "--------------------------------------------------\n",
      "Result : Pass  Time : 0.0000101\n"
     ]
    }
   ],
   "source": [
    "# binary search\n",
    "class Solution:\n",
    "    def search(self, nums:  list(), target: int) -> int:\n",
    "        left = 0\n",
    "        right = len(nums) - 1\n",
    "        \n",
    "        while left <= right:\n",
    "            mid = (left + right) // 2\n",
    "            if target == nums[mid]:\n",
    "                return mid\n",
    "            \n",
    "            if nums[right] > nums[mid]:\n",
    "                if target > nums[mid] and target <= nums[right]:\n",
    "                    left = mid + 1\n",
    "                else:\n",
    "                    right = mid - 1\n",
    "            else:\n",
    "                if target >= nums[left] and target < nums[mid]:\n",
    "                    right = mid - 1\n",
    "                else:\n",
    "                    left = mid + 1\n",
    "                    \n",
    "        return -1\n",
    "        \n",
    "test(testcase, answer)"
   ]
  }
 ],
 "metadata": {
  "kernelspec": {
   "display_name": "Python 3",
   "language": "python",
   "name": "python3"
  },
  "language_info": {
   "codemirror_mode": {
    "name": "ipython",
    "version": 3
   },
   "file_extension": ".py",
   "mimetype": "text/x-python",
   "name": "python",
   "nbconvert_exporter": "python",
   "pygments_lexer": "ipython3",
   "version": "3.8.3"
  }
 },
 "nbformat": 4,
 "nbformat_minor": 4
}
