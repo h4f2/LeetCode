{
 "cells": [
  {
   "cell_type": "markdown",
   "metadata": {
    "tags": []
   },
   "source": [
    "##### Given an array of integers nums and an integer target, return indices of the two numbers such that they add up to target.\n",
    "##### You may assume that each input would have exactly one solution, and you may not use the same element twice.\n",
    "##### You can return the answer in any order.\n",
    "\n",
    "<br>\n",
    "\n",
    "**Constraints:**\n",
    "   * 2 <= nums.length <= 104\n",
    "   * -109 <= nums[i] <= 109\n",
    "   * -109 <= target <= 109\n",
    "   * Only one valid answer exists.\n",
    "   \n",
    "\n",
    "**Example 1:**  \n",
    "`Input: nums = [2,7,11,15], target = 9`  \n",
    "`Iutput: [0,1]`  \n",
    "`Explanation: Because nums[0] + nums[1] == 9, we return [0, 1].`\n",
    "\n",
    "**Example 2:**  \n",
    "    `Input: nums = [3,2,4], target = 6`  \n",
    "    `Output: [1,2]`\n",
    "    \n",
    "**Example 3:**  \n",
    "    `Input: nums = [3,3], target = 6`  \n",
    "    `Output: [0,1]`"
   ]
  },
  {
   "cell_type": "code",
   "execution_count": 1,
   "metadata": {},
   "outputs": [],
   "source": [
    "testcase = (([2,7,11,15],9),\n",
    "            ([3,2,4],6),\n",
    "            ([3,3],6))\n",
    "\n",
    "answer = ([0,1],\n",
    "          [1,2],\n",
    "          [0,1])"
   ]
  },
  {
   "cell_type": "code",
   "execution_count": 2,
   "metadata": {},
   "outputs": [],
   "source": [
    "import time\n",
    "\n",
    "def test(testcase, answer):\n",
    "    solution = Solution()\n",
    "    _result = []\n",
    "    _time = 0\n",
    "\n",
    "    for i, case in enumerate(testcase):\n",
    "        start = time.perf_counter()\n",
    "        output = solution.twoSum(*case)\n",
    "        process_time = time.perf_counter() - start\n",
    "        result = 'Pass' if output==answer[i] else 'Fail'\n",
    "\n",
    "        _time += process_time\n",
    "        _result.append(result)\n",
    "        \n",
    "        print(f'Case {i+1} : input  -> {case} ')\n",
    "        print(f'\\t output -> {output}{\" \"*15}')\n",
    "        print(f'Result : {result}  Time : {process_time:.7f}\\n')\n",
    "    \n",
    "    _result = 'Pass' if 'Fail' not in _result else 'Fail'\n",
    "    print('-' * 50 + f'\\nResult : {_result}  Time : {_time:.7f}')"
   ]
  },
  {
   "cell_type": "code",
   "execution_count": 3,
   "metadata": {},
   "outputs": [
    {
     "name": "stdout",
     "output_type": "stream",
     "text": [
      "Case 1 : input  -> ([2, 7, 11, 15], 9) \n",
      "\t output -> [0, 1]               \n",
      "Result : Pass  Time : 0.0000093\n",
      "\n",
      "Case 2 : input  -> ([3, 2, 4], 6) \n",
      "\t output -> [1, 2]               \n",
      "Result : Pass  Time : 0.0000132\n",
      "\n",
      "Case 3 : input  -> ([3, 3], 6) \n",
      "\t output -> [0, 1]               \n",
      "Result : Pass  Time : 0.0000108\n",
      "\n",
      "--------------------------------------------------\n",
      "Result : Pass  Time : 0.0000333\n"
     ]
    }
   ],
   "source": [
    "class Solution:\n",
    "    def twoSum(self, nums: list, target: int) -> list:\n",
    "        nums = nums[:]\n",
    "        for i in range(len(nums)):\n",
    "            x = target - nums.pop(0)\n",
    "            if x in nums:\n",
    "                return [i, i + nums.index(x) + 1]\n",
    "        else:\n",
    "            return\n",
    "        \n",
    "test(testcase,answer)"
   ]
  },
  {
   "cell_type": "code",
   "execution_count": 4,
   "metadata": {},
   "outputs": [
    {
     "name": "stdout",
     "output_type": "stream",
     "text": [
      "Case 1 : input  -> ([2, 7, 11, 15], 9) \n",
      "\t output -> [0, 1]               \n",
      "Result : Pass  Time : 0.0000057\n",
      "\n",
      "Case 2 : input  -> ([3, 2, 4], 6) \n",
      "\t output -> [1, 2]               \n",
      "Result : Pass  Time : 0.0000080\n",
      "\n",
      "Case 3 : input  -> ([3, 3], 6) \n",
      "\t output -> [0, 1]               \n",
      "Result : Pass  Time : 0.0000066\n",
      "\n",
      "--------------------------------------------------\n",
      "Result : Pass  Time : 0.0000203\n"
     ]
    }
   ],
   "source": [
    "#參考\n",
    "\n",
    "class Solution:\n",
    "    def twoSum(self, nums: list, target: int) -> list:\n",
    "        seen_values = {}\n",
    "        for i, value in enumerate(nums):\n",
    "            if target - value in seen_values:\n",
    "                return [seen_values[target - value], i]\n",
    "            else:\n",
    "                seen_values[value] = i                \n",
    "        return \n",
    "    \n",
    "test(testcase,answer)"
   ]
  }
 ],
 "metadata": {
  "kernelspec": {
   "display_name": "Python 3",
   "language": "python",
   "name": "python3"
  },
  "language_info": {
   "codemirror_mode": {
    "name": "ipython",
    "version": 3
   },
   "file_extension": ".py",
   "mimetype": "text/x-python",
   "name": "python",
   "nbconvert_exporter": "python",
   "pygments_lexer": "ipython3",
   "version": "3.8.3"
  }
 },
 "nbformat": 4,
 "nbformat_minor": 4
}
