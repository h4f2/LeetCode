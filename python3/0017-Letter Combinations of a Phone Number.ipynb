{
 "cells": [
  {
   "cell_type": "markdown",
   "metadata": {},
   "source": [
    "##### Given a string containing digits from 2-9 inclusive, return all possible letter combinations that the number could represent. \n",
    "##### Return the answer in any order.\n",
    "\n",
    "![](../_pictures/0017.png)\n",
    "\n",
    "##### A mapping of digit to letters (just like on the telephone buttons) is given below. Note that 1 does not map to any letters.\n",
    "\n",
    "<br>  \n",
    "\n",
    "**Constraints:**  \n",
    "* 0 <= digits.length <= 4\n",
    "* digits[i] is a digit in the range ['2', '9']\n",
    "\n",
    "**Example 1:**  \n",
    "```\n",
    "Input: digits = \"23\"\n",
    "Output: [\"ad\",\"ae\",\"af\",\"bd\",\"be\",\"bf\",\"cd\",\"ce\",\"cf\"]\n",
    "``` \n",
    "\n",
    "**Example 2:**  \n",
    "```\n",
    "Input: digits = \"\"\n",
    "Output: []\n",
    "```\n",
    "\n",
    "**Example 3:**  \n",
    "```\n",
    "Input: digits = \"2\"\n",
    "Output: [\"a\",\"b\",\"c\"]\n",
    "```"
   ]
  },
  {
   "cell_type": "code",
   "execution_count": 1,
   "metadata": {},
   "outputs": [],
   "source": [
    "testcase = (\"23\",\n",
    "            \"\",\n",
    "            \"2\")\n",
    "\n",
    "answer = ([\"ad\",\"ae\",\"af\",\"bd\",\"be\",\"bf\",\"cd\",\"ce\",\"cf\"],\n",
    "          [],\n",
    "          [\"a\",\"b\",\"c\"])"
   ]
  },
  {
   "cell_type": "code",
   "execution_count": 2,
   "metadata": {},
   "outputs": [],
   "source": [
    "import time\n",
    "\n",
    "def test(testcase, answer):\n",
    "    solution = Solution()\n",
    "    _result = []\n",
    "    _time = 0\n",
    "\n",
    "    for i, case in enumerate(testcase):\n",
    "        start = time.perf_counter()\n",
    "        output = solution.letterCombinations(case)\n",
    "        process_time = time.perf_counter() - start\n",
    "        result = 'Pass' if (set(output) == set(answer[i]) and\n",
    "                            len(output) == len(answer[i])) else 'Fail'\n",
    "\n",
    "        _time += process_time\n",
    "        _result.append(result)\n",
    "        \n",
    "        print(f'Case {i+1} : input  -> {case} ')\n",
    "        print(f'\\t output -> {output}{\" \"*15}')\n",
    "        print(f'Result : {result}  Time : {process_time:.7f}\\n')\n",
    "    \n",
    "    _result = 'Pass' if 'Fail' not in _result else 'Fail'\n",
    "    print('-' * 50 + f'\\nResult : {_result}  Time : {_time:.7f}')"
   ]
  },
  {
   "cell_type": "code",
   "execution_count": 3,
   "metadata": {},
   "outputs": [
    {
     "name": "stdout",
     "output_type": "stream",
     "text": [
      "Case 1 : input  -> 23 \n",
      "\t output -> ['ad', 'bd', 'cd', 'ae', 'be', 'ce', 'af', 'bf', 'cf']               \n",
      "Result : Pass  Time : 0.0000236\n",
      "\n",
      "Case 2 : input  ->  \n",
      "\t output -> []               \n",
      "Result : Pass  Time : 0.0000049\n",
      "\n",
      "Case 3 : input  -> 2 \n",
      "\t output -> ['a', 'b', 'c']               \n",
      "Result : Pass  Time : 0.0000045\n",
      "\n",
      "--------------------------------------------------\n",
      "Result : Pass  Time : 0.0000330\n"
     ]
    }
   ],
   "source": [
    "# 遞迴\n",
    "\n",
    "class Solution:\n",
    "    def letterCombinations(self, digits: str) -> list:\n",
    "        letter_map = {'2': 'abc', '3': 'def', '4': 'ghi', '5': 'jkl',\n",
    "                      '6': 'mno', '7': 'pqrs', '8': 'tuv', '9': 'wxyz'}\n",
    "        chars = [letter_map[d] for d in digits]\n",
    "        res = []\n",
    "        \n",
    "        if digits == \"\":\n",
    "            return []\n",
    "        elif len(digits) == 1:\n",
    "            return [ch for ch in chars[0]]\n",
    "        else: \n",
    "            last = chars[-1]\n",
    "            for j in last:\n",
    "                for k in self.letterCombinations(digits[0:-1]):\n",
    "                    k += j\n",
    "                    res.append(k)\n",
    "        return res\n",
    "    \n",
    "test(testcase, answer)"
   ]
  },
  {
   "cell_type": "code",
   "execution_count": 4,
   "metadata": {},
   "outputs": [
    {
     "name": "stdout",
     "output_type": "stream",
     "text": [
      "Case 1 : input  -> 23 \n",
      "\t output -> ['ad', 'ae', 'af', 'bd', 'be', 'bf', 'cd', 'ce', 'cf']               \n",
      "Result : Pass  Time : 0.0000261\n",
      "\n",
      "Case 2 : input  ->  \n",
      "\t output -> []               \n",
      "Result : Pass  Time : 0.0000090\n",
      "\n",
      "Case 3 : input  -> 2 \n",
      "\t output -> ['a', 'b', 'c']               \n",
      "Result : Pass  Time : 0.0000090\n",
      "\n",
      "--------------------------------------------------\n",
      "Result : Pass  Time : 0.0000441\n"
     ]
    }
   ],
   "source": [
    "# 遞迴 調整順序\n",
    "\n",
    "class Solution:\n",
    "    def letterCombinations(self, digits: str) -> list:\n",
    "        letter_map = {'2': 'abc', '3': 'def', '4': 'ghi', '5': 'jkl',\n",
    "                      '6': 'mno', '7': 'pqrs', '8': 'tuv', '9': 'wxyz'}\n",
    "        chars = [letter_map[d] for d in digits]\n",
    "        res = []\n",
    "        \n",
    "        if digits == \"\":\n",
    "            return []\n",
    "        elif len(digits) == 1:\n",
    "            return [ch for ch in chars[0]]\n",
    "        else: \n",
    "            first = chars[0]\n",
    "            for j in first:\n",
    "                for k in self.letterCombinations(digits[1:]):\n",
    "                    k = j + k\n",
    "                    res.append(k)\n",
    "        return res\n",
    "\n",
    "test(testcase, answer)"
   ]
  },
  {
   "cell_type": "code",
   "execution_count": 5,
   "metadata": {},
   "outputs": [
    {
     "name": "stdout",
     "output_type": "stream",
     "text": [
      "Case 1 : input  -> 23 \n",
      "\t output -> ['ad', 'ae', 'af', 'bd', 'be', 'bf', 'cd', 'ce', 'cf']               \n",
      "Result : Pass  Time : 0.0000163\n",
      "\n",
      "Case 2 : input  ->  \n",
      "\t output -> []               \n",
      "Result : Pass  Time : 0.0000023\n",
      "\n",
      "Case 3 : input  -> 2 \n",
      "\t output -> ['a', 'b', 'c']               \n",
      "Result : Pass  Time : 0.0000105\n",
      "\n",
      "--------------------------------------------------\n",
      "Result : Pass  Time : 0.0000291\n"
     ]
    }
   ],
   "source": [
    "# itertools\n",
    "\n",
    "import itertools\n",
    "class Solution:\n",
    "    def letterCombinations(self, digits: str) -> list:\n",
    "        if digits == '':\n",
    "            return []\n",
    "        \n",
    "        letter_map = {'2': 'abc', '3': 'def', '4': 'ghi', '5': 'jkl',\n",
    "                      '6': 'mno', '7': 'pqrs', '8': 'tuv', '9': 'wxyz'}\n",
    "        chars = [letter_map[d] for d in digits]\n",
    "        letter_group = list(itertools.product(*chars))\n",
    "        \n",
    "        return [''.join(l) for l in letter_group]\n",
    "    \n",
    "test(testcase, answer)"
   ]
  },
  {
   "cell_type": "code",
   "execution_count": 6,
   "metadata": {},
   "outputs": [
    {
     "name": "stdout",
     "output_type": "stream",
     "text": [
      "Case 1 : input  -> 23 \n",
      "\t output -> ['ad', 'ae', 'af', 'bd', 'be', 'bf', 'cd', 'ce', 'cf']               \n",
      "Result : Pass  Time : 0.0000174\n",
      "\n",
      "Case 2 : input  ->  \n",
      "\t output -> []               \n",
      "Result : Pass  Time : 0.0000032\n",
      "\n",
      "Case 3 : input  -> 2 \n",
      "\t output -> ['a', 'b', 'c']               \n",
      "Result : Pass  Time : 0.0000119\n",
      "\n",
      "--------------------------------------------------\n",
      "Result : Pass  Time : 0.0000325\n"
     ]
    }
   ],
   "source": [
    "# itertools(簡化)\n",
    "\n",
    "import itertools\n",
    "class Solution:\n",
    "    def letterCombinations(self, digits: str) -> list:\n",
    "        if digits == '':\n",
    "            return []\n",
    "        \n",
    "        letter_map = {'2': 'abc', '3': 'def', '4': 'ghi', '5': 'jkl',\n",
    "                      '6': 'mno', '7': 'pqrs', '8': 'tuv', '9': 'wxyz'}\n",
    "\n",
    "        return [''.join(l) for l in itertools.product(*[letter_map[d] for d in digits])]\n",
    "    \n",
    "test(testcase, answer)"
   ]
  }
 ],
 "metadata": {
  "kernelspec": {
   "display_name": "Python 3",
   "language": "python",
   "name": "python3"
  },
  "language_info": {
   "codemirror_mode": {
    "name": "ipython",
    "version": 3
   },
   "file_extension": ".py",
   "mimetype": "text/x-python",
   "name": "python",
   "nbconvert_exporter": "python",
   "pygments_lexer": "ipython3",
   "version": "3.8.3"
  }
 },
 "nbformat": 4,
 "nbformat_minor": 4
}
