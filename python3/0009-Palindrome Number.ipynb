{
 "cells": [
  {
   "cell_type": "markdown",
   "metadata": {
    "tags": []
   },
   "source": [
    "##### Given an integer x, return true if x is palindrome integer.\n",
    "##### An integer is a palindrome when it reads the same backward as forward.\n",
    "* For example, 121 is a palindrome while 123 is not.\n",
    "\n",
    "<br>  \n",
    "\n",
    "**Constraints:**  \n",
    "* $-2^{31}$ <= x <= $2^{31}-1$\n",
    "* s consists of English letters (lower-case and upper-case), digits (0-9), ' ', '+', '-', and '.'.\n",
    "\n",
    "**Example 1:**\n",
    "```\n",
    "Input: x = 121\n",
    "Output: true\n",
    "Explanation: 121 reads as 121 from left to right and from right to left.\n",
    "```  \n",
    "\n",
    "**Example 2:**  \n",
    "```\n",
    "Input: x = -121\n",
    "Output: false\n",
    "Explanation: From left to right, it reads -121. From right to left, it becomes 121-. Therefore it is not a palindrome.\n",
    "```\n",
    "\n",
    "**Example 3:**  \n",
    "```\n",
    "Input: x = 10\n",
    "Output: false\n",
    "Explanation: Reads 01 from right to left. Therefore it is not a palindrome.\n",
    "```"
   ]
  },
  {
   "cell_type": "code",
   "execution_count": 1,
   "metadata": {},
   "outputs": [],
   "source": [
    "testcase = (121,\n",
    "            -121,\n",
    "            10)\n",
    "\n",
    "answer = (True,\n",
    "          False,\n",
    "          False)"
   ]
  },
  {
   "cell_type": "code",
   "execution_count": 2,
   "metadata": {},
   "outputs": [],
   "source": [
    "import time\n",
    "\n",
    "def test(testcase, answer):\n",
    "    solution = Solution()\n",
    "    _result = []\n",
    "    _time = 0\n",
    "\n",
    "    for i, case in enumerate(testcase):\n",
    "        start = time.perf_counter()\n",
    "        output = solution.isPalindrome(case)\n",
    "        process_time = time.perf_counter() - start\n",
    "        result = 'Pass' if output == answer[i] else 'Fail'\n",
    "\n",
    "        _time += process_time\n",
    "        _result.append(result)\n",
    "        \n",
    "        print(f'Case {i+1} : input  -> {case} ')\n",
    "        print(f'\\t output -> {output}{\" \"*15}')\n",
    "        print(f'Result : {result}  Time : {process_time:.7f}\\n')\n",
    "    \n",
    "    _result = 'Pass' if 'Fail' not in _result else 'Fail'\n",
    "    print('-' * 50 + f'\\nResult : {_result}  Time : {_time:.7f}')"
   ]
  },
  {
   "cell_type": "code",
   "execution_count": 3,
   "metadata": {},
   "outputs": [
    {
     "name": "stdout",
     "output_type": "stream",
     "text": [
      "Case 1 : input  -> 121 \n",
      "\t output -> True               \n",
      "Result : Pass  Time : 0.0000055\n",
      "\n",
      "Case 2 : input  -> -121 \n",
      "\t output -> False               \n",
      "Result : Pass  Time : 0.0000033\n",
      "\n",
      "Case 3 : input  -> 10 \n",
      "\t output -> False               \n",
      "Result : Pass  Time : 0.0000019\n",
      "\n",
      "--------------------------------------------------\n",
      "Result : Pass  Time : 0.0000107\n"
     ]
    }
   ],
   "source": [
    "class Solution:\n",
    "    def isPalindrome(self, x: int) -> bool:\n",
    "        return str(x)==str(x)[::-1]\n",
    "    \n",
    "test(testcase,answer)"
   ]
  },
  {
   "cell_type": "code",
   "execution_count": 4,
   "metadata": {},
   "outputs": [
    {
     "name": "stdout",
     "output_type": "stream",
     "text": [
      "Case 1 : input  -> 121 \n",
      "\t output -> True               \n",
      "Result : Pass  Time : 0.0000029\n",
      "\n",
      "Case 2 : input  -> -121 \n",
      "\t output -> False               \n",
      "Result : Pass  Time : 0.0000009\n",
      "\n",
      "Case 3 : input  -> 10 \n",
      "\t output -> False               \n",
      "Result : Pass  Time : 0.0000021\n",
      "\n",
      "--------------------------------------------------\n",
      "Result : Pass  Time : 0.0000059\n"
     ]
    }
   ],
   "source": [
    "# no slice\n",
    "class Solution:\n",
    "    def isPalindrome(self, x: int) -> bool:\n",
    "        if x < 0:\n",
    "            return False\n",
    "        xOrig, xNew = x, 0\n",
    "        while x:\n",
    "            xNew, x = xNew*10 + x%10, x//10\n",
    "        return xOrig == xNew\n",
    "    \n",
    "test(testcase,answer)"
   ]
  }
 ],
 "metadata": {
  "kernelspec": {
   "display_name": "Python 3",
   "language": "python",
   "name": "python3"
  },
  "language_info": {
   "codemirror_mode": {
    "name": "ipython",
    "version": 3
   },
   "file_extension": ".py",
   "mimetype": "text/x-python",
   "name": "python",
   "nbconvert_exporter": "python",
   "pygments_lexer": "ipython3",
   "version": "3.8.3"
  }
 },
 "nbformat": 4,
 "nbformat_minor": 4
}
