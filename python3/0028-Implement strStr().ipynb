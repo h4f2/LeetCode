{
 "cells": [
  {
   "cell_type": "markdown",
   "metadata": {},
   "source": [
    "##### Implement strStr().\n",
    "\n",
    "##### Return the index of the first occurrence of needle in haystack, or -1 if needle is not part of haystack.\n",
    "\n",
    "##### Clarification:\n",
    "\n",
    "##### What should we return when needle is an empty string? This is a great question to ask during an interview.\n",
    "\n",
    "##### For the purpose of this problem, we will return 0 when needle is an empty string. This is consistent to C's strstr() and Java's indexOf().\n",
    "\n",
    "</br>\n",
    "\n",
    "**Constraints:**  \n",
    "* 0 <= haystack.length, needle.length <= 5 * 10$^4$\n",
    "* haystack and needle consist of only lower-case English characters.\n",
    "\n",
    "**Example 1:**  \n",
    "```\n",
    "Input: haystack = \"hello\", needle = \"ll\"\n",
    "Output: 2\n",
    "```  \n",
    "\n",
    "**Example 2:**  \n",
    "```\n",
    "Input: haystack = \"aaaaa\", needle = \"bba\"\n",
    "Output: -1\n",
    "```\n",
    "\n",
    "**Example 3:**  \n",
    "```\n",
    "Input: haystack = \"\", needle = \"\"\n",
    "Output: 0\n",
    "```"
   ]
  },
  {
   "cell_type": "code",
   "execution_count": 1,
   "metadata": {
    "jupyter": {
     "source_hidden": true
    },
    "tags": []
   },
   "outputs": [],
   "source": [
    "testcase = ([\"hello\",\"ll\"],\n",
    "            [\"aaaaa\", \"bba\"],\n",
    "            [\"\",\"\"])\n",
    "\n",
    "answer = (2,\n",
    "          -1,\n",
    "          0)"
   ]
  },
  {
   "cell_type": "code",
   "execution_count": 2,
   "metadata": {
    "jupyter": {
     "source_hidden": true
    },
    "tags": []
   },
   "outputs": [],
   "source": [
    "import time\n",
    "\n",
    "def test(testcase, answer):\n",
    "    solution = Solution()\n",
    "    _result = []\n",
    "    _time = 0\n",
    "\n",
    "    for i, case in enumerate(testcase):\n",
    "        start = time.perf_counter()\n",
    "        output = solution.strStr(*case)\n",
    "        process_time = time.perf_counter() - start\n",
    "        result = 'Pass' if output==answer[i] else 'Fail'\n",
    "\n",
    "        _time += process_time\n",
    "        _result.append(result)\n",
    "        \n",
    "        print(f'Case {i+1} : input  -> {case} ')\n",
    "        print(f'\\t output -> {output}{\" \"*15}')\n",
    "        print(f'Result : {result}  Time : {process_time:.7f}\\n')\n",
    "    \n",
    "    _result = 'Pass' if 'Fail' not in _result else 'Fail'\n",
    "    print('-' * 50 + f'\\nResult : {_result}  Time : {_time:.7f}')"
   ]
  },
  {
   "cell_type": "code",
   "execution_count": 3,
   "metadata": {},
   "outputs": [
    {
     "name": "stdout",
     "output_type": "stream",
     "text": [
      "Case 1 : input  -> ['hello', 'll'] \n",
      "\t output -> 2               \n",
      "Result : Pass  Time : 0.0000020\n",
      "\n",
      "Case 2 : input  -> ['aaaaa', 'bba'] \n",
      "\t output -> -1               \n",
      "Result : Pass  Time : 0.0000015\n",
      "\n",
      "Case 3 : input  -> ['', ''] \n",
      "\t output -> 0               \n",
      "Result : Pass  Time : 0.0000007\n",
      "\n",
      "--------------------------------------------------\n",
      "Result : Pass  Time : 0.0000042\n"
     ]
    }
   ],
   "source": [
    "# find\n",
    "\n",
    "class Solution:\n",
    "    def strStr(self, haystack: str, needle: str) -> int:\n",
    "        return haystack.find(needle)\n",
    "    \n",
    "test(testcase, answer)"
   ]
  },
  {
   "cell_type": "code",
   "execution_count": 4,
   "metadata": {},
   "outputs": [
    {
     "name": "stdout",
     "output_type": "stream",
     "text": [
      "Case 1 : input  -> ['hello', 'll'] \n",
      "\t output -> 2               \n",
      "Result : Pass  Time : 0.0000038\n",
      "\n",
      "Case 2 : input  -> ['aaaaa', 'bba'] \n",
      "\t output -> -1               \n",
      "Result : Pass  Time : 0.0000027\n",
      "\n",
      "Case 3 : input  -> ['', ''] \n",
      "\t output -> 0               \n",
      "Result : Pass  Time : 0.0000015\n",
      "\n",
      "--------------------------------------------------\n",
      "Result : Pass  Time : 0.0000080\n"
     ]
    }
   ],
   "source": [
    "# startwith\n",
    "\n",
    "class Solution:\n",
    "    def strStr(self, haystack: str, needle: str) -> int:\n",
    "        if not needle:\n",
    "            return 0\n",
    "        \n",
    "        for i in range(len(haystack)):\n",
    "            if haystack.startswith(needle,i):\n",
    "                return i\n",
    "        \n",
    "        return -1\n",
    "    \n",
    "test(testcase, answer)"
   ]
  }
 ],
 "metadata": {
  "kernelspec": {
   "display_name": "Python 3",
   "language": "python",
   "name": "python3"
  },
  "language_info": {
   "codemirror_mode": {
    "name": "ipython",
    "version": 3
   },
   "file_extension": ".py",
   "mimetype": "text/x-python",
   "name": "python",
   "nbconvert_exporter": "python",
   "pygments_lexer": "ipython3",
   "version": "3.8.3"
  }
 },
 "nbformat": 4,
 "nbformat_minor": 4
}
