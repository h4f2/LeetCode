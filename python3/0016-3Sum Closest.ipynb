{
 "cells": [
  {
   "cell_type": "markdown",
   "metadata": {},
   "source": [
    "##### Given an integer array nums of length n and an integer target, find three integers in nums such that the sum is closest to target.\n",
    "\n",
    "##### Return the sum of the three integers.\n",
    "\n",
    "##### You may assume that each input would have exactly one solution.\n",
    "\n",
    "<br>  \n",
    "\n",
    "**Constraints:**  \n",
    "* 3 <= nums.length <= 1000\n",
    "* -1000 <= nums[i] <= 1000\n",
    "* $-10^4$ <= target <= $10^4$\n",
    "\n",
    "**Example 1:**  \n",
    "```\n",
    "Input: nums = [-1,2,1,-4], target = 1\n",
    "Output: 2\n",
    "Explanation: The sum that is closest to the target is 2. (-1 + 2 + 1 = 2).\n",
    "```  \n",
    "\n",
    "**Example 2:**  \n",
    "```\n",
    "Input: nums = [0,0,0], target = 1\n",
    "Output: 0\n",
    "```"
   ]
  },
  {
   "cell_type": "code",
   "execution_count": 1,
   "metadata": {},
   "outputs": [],
   "source": [
    "testcase = ([[-1,2,1,-4], 1],\n",
    "            [[0,0,0], 1])\n",
    "\n",
    "answer = (2,\n",
    "          0)"
   ]
  },
  {
   "cell_type": "code",
   "execution_count": 2,
   "metadata": {},
   "outputs": [],
   "source": [
    "import time\n",
    "\n",
    "def test(testcase, answer):\n",
    "    solution = Solution()\n",
    "    _result = []\n",
    "    _time = 0\n",
    "\n",
    "    for i, case in enumerate(testcase):\n",
    "        start = time.perf_counter()\n",
    "        output = solution.threeSumClosest(*case)\n",
    "        process_time = time.perf_counter() - start\n",
    "        result = 'Pass' if output == answer[i] else 'Fail'\n",
    "\n",
    "        _time += process_time\n",
    "        _result.append(result)\n",
    "        \n",
    "        print(f'Case {i+1} : input  -> {case} ')\n",
    "        print(f'\\t output -> {output}{\" \"*15}')\n",
    "        print(f'Result : {result}  Time : {process_time:.7f}\\n')\n",
    "    \n",
    "    _result = 'Pass' if 'Fail' not in _result else 'Fail'\n",
    "    print('-' * 50 + f'\\nResult : {_result}  Time : {_time:.7f}')"
   ]
  },
  {
   "cell_type": "code",
   "execution_count": 3,
   "metadata": {},
   "outputs": [
    {
     "name": "stdout",
     "output_type": "stream",
     "text": [
      "Case 1 : input  -> [[-4, -1, 1, 2], 1] \n",
      "\t output -> 2               \n",
      "Result : Pass  Time : 0.0000148\n",
      "\n",
      "Case 2 : input  -> [[0, 0, 0], 1] \n",
      "\t output -> 0               \n",
      "Result : Pass  Time : 0.0000075\n",
      "\n",
      "--------------------------------------------------\n",
      "Result : Pass  Time : 0.0000223\n"
     ]
    }
   ],
   "source": [
    "# O(N*N*N) timeout\n",
    "class Solution:\n",
    "    def threeSumClosest(self, nums: list, target: int) -> int:\n",
    "        res = []\n",
    "        nums.sort()\n",
    "        \n",
    "        for i, n in enumerate(nums[:-2]):\n",
    "            for j in range(i+1, len(nums) - 1):\n",
    "                for k in range(j+1, len(nums)):\n",
    "                    res.append(n + nums[j] + nums[k])\n",
    "                    \n",
    "        return sorted(res, key = lambda x : abs(x -target))[0]\n",
    "\n",
    "test(testcase, answer)"
   ]
  },
  {
   "cell_type": "code",
   "execution_count": 4,
   "metadata": {},
   "outputs": [
    {
     "name": "stdout",
     "output_type": "stream",
     "text": [
      "Case 1 : input  -> [[-4, -1, 1, 2], 1] \n",
      "\t output -> 2               \n",
      "Result : Pass  Time : 0.0000185\n",
      "\n",
      "Case 2 : input  -> [[0, 0, 0], 1] \n",
      "\t output -> 0               \n",
      "Result : Pass  Time : 0.0000071\n",
      "\n",
      "--------------------------------------------------\n",
      "Result : Pass  Time : 0.0000256\n"
     ]
    }
   ],
   "source": [
    "# 左右夾擠\n",
    "class Solution:\n",
    "    def threeSumClosest(self, nums: list, target: int) -> int:\n",
    "        nums.sort()\n",
    "        min_d = abs(target - sum(nums[:3]))\n",
    "        res = sum(nums[:3])\n",
    "        \n",
    "        for i in range(len(nums)):\n",
    "            left, right = i + 1, len(nums) - 1\n",
    "            \n",
    "            while left < right:\n",
    "                _v = nums[i] + nums[left] + nums[right]\n",
    "                _d = abs(target - _v)\n",
    "                \n",
    "                if _d < min_d:\n",
    "                    min_d, res = _d, _v\n",
    "                \n",
    "                if _v > target:\n",
    "                    right -= 1\n",
    "                elif _v < target:\n",
    "                    left += 1\n",
    "                else:\n",
    "                    return target\n",
    "        return res\n",
    "    \n",
    "test(testcase, answer)"
   ]
  },
  {
   "cell_type": "code",
   "execution_count": 5,
   "metadata": {},
   "outputs": [
    {
     "name": "stdout",
     "output_type": "stream",
     "text": [
      "Case 1 : input  -> [[-4, -1, 1, 2], 1] \n",
      "\t output -> 2               \n",
      "Result : Pass  Time : 0.0000152\n",
      "\n",
      "Case 2 : input  -> [[0, 0, 0], 1] \n",
      "\t output -> 0               \n",
      "Result : Pass  Time : 0.0000082\n",
      "\n",
      "--------------------------------------------------\n",
      "Result : Pass  Time : 0.0000234\n"
     ]
    }
   ],
   "source": [
    "# 左右夾擠(優化)\n",
    "class Solution:\n",
    "    def threeSumClosest(self, nums: list, target: int) -> int:\n",
    "        nums.sort()\n",
    "        res = sum(nums[:3])\n",
    "        min_d = abs(target - res)\n",
    "        L = len(nums)\n",
    "        \n",
    "        for i, n in enumerate(nums):\n",
    "            left, right = i + 1, L - 1\n",
    "            \n",
    "            while left < right:\n",
    "                _v = n + nums[left] + nums[right]\n",
    "                if _v == target:\n",
    "                    return target\n",
    "                \n",
    "                _d = abs(target - _v)\n",
    "                if _d < min_d:\n",
    "                    min_d, res = _d, _v\n",
    "                \n",
    "                if _v > target:\n",
    "                    right -= 1\n",
    "                else:\n",
    "                    left += 1                   \n",
    "        return res\n",
    "    \n",
    "test(testcase, answer)"
   ]
  }
 ],
 "metadata": {
  "kernelspec": {
   "display_name": "Python 3",
   "language": "python",
   "name": "python3"
  },
  "language_info": {
   "codemirror_mode": {
    "name": "ipython",
    "version": 3
   },
   "file_extension": ".py",
   "mimetype": "text/x-python",
   "name": "python",
   "nbconvert_exporter": "python",
   "pygments_lexer": "ipython3",
   "version": "3.8.3"
  }
 },
 "nbformat": 4,
 "nbformat_minor": 4
}
