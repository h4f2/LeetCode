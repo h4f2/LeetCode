{
 "cells": [
  {
   "cell_type": "markdown",
   "metadata": {
    "tags": []
   },
   "source": [
    "##### You are given an integer array height of length n. There are n vertical lines drawn such that the two endpoints of the $i^{th}$ line are $(i, 0)$ and $(i, height[i])$.\n",
    "\n",
    "##### Find two lines that together with the x-axis form a container, such that the container contains the most water.\n",
    "\n",
    "##### Return the maximum amount of water a container can store.\n",
    "\n",
    "##### **Notice** that you may not slant the container.\n",
    "\n",
    "\n",
    "<br>  \n",
    "\n",
    "**Constraints:**  \n",
    "* n == height.length\n",
    "* 2 <= n <= 105\n",
    "* 0 <= height[i] <= 104\n",
    "\n",
    "**Example 1:**  \n",
    "![](../_pictures/0011.jpg)\n",
    "```\n",
    "Input: height = [1,8,6,2,5,4,8,3,7]\n",
    "Output: 49\n",
    "Explanation: The above vertical lines are represented by array [1,8,6,2,5,4,8,3,7]. In this case, the max area of water (blue section) the container can contain is 49.\n",
    "```  \n",
    "\n",
    "**Example 2:**  \n",
    "```\n",
    "Input: height = [1,1]\n",
    "Output: 1\n",
    "```"
   ]
  },
  {
   "cell_type": "code",
   "execution_count": 1,
   "metadata": {},
   "outputs": [],
   "source": [
    "testcase = ([1,8,6,2,5,4,8,3,7],\n",
    "            [1,1])\n",
    "\n",
    "answer = (49,\n",
    "          1)"
   ]
  },
  {
   "cell_type": "code",
   "execution_count": 2,
   "metadata": {},
   "outputs": [],
   "source": [
    "import time\n",
    "\n",
    "def test(testcase, answer):\n",
    "    solution = Solution()\n",
    "    _result = []\n",
    "    _time = 0\n",
    "\n",
    "    for i, case in enumerate(testcase):\n",
    "        start = time.perf_counter()\n",
    "        output = solution.maxArea(case)\n",
    "        process_time = time.perf_counter() - start\n",
    "        result = 'Pass' if output == answer[i] else 'Fail'\n",
    "\n",
    "        _time += process_time\n",
    "        _result.append(result)\n",
    "        \n",
    "        print(f'Case {i+1} : input  -> {case} ')\n",
    "        print(f'\\t output -> {output}{\" \"*15}')\n",
    "        print(f'Result : {result}  Time : {process_time:.7f}\\n')\n",
    "    \n",
    "    _result = 'Pass' if 'Fail' not in _result else 'Fail'\n",
    "    print('-' * 50 + f'\\nResult : {_result}  Time : {_time:.7f}')"
   ]
  },
  {
   "cell_type": "code",
   "execution_count": 3,
   "metadata": {},
   "outputs": [
    {
     "name": "stdout",
     "output_type": "stream",
     "text": [
      "Case 1 : input  -> [1, 8, 6, 2, 5, 4, 8, 3, 7] \n",
      "\t output -> 49               \n",
      "Result : Pass  Time : 0.0000307\n",
      "\n",
      "Case 2 : input  -> [1, 1] \n",
      "\t output -> 1               \n",
      "Result : Pass  Time : 0.0000071\n",
      "\n",
      "--------------------------------------------------\n",
      "Result : Pass  Time : 0.0000378\n"
     ]
    }
   ],
   "source": [
    "# Timeout\n",
    "\n",
    "class Solution:\n",
    "    def maxArea(self, height: list) -> int:\n",
    "        res = 0\n",
    "        for i in range(len(height)):\n",
    "            for j in range(i + 1,len(height)):\n",
    "                res = max(res, min(height[i], height[j]) * (j - i))\n",
    "        return res\n",
    "        \n",
    "test(testcase,answer)"
   ]
  },
  {
   "cell_type": "code",
   "execution_count": 4,
   "metadata": {},
   "outputs": [
    {
     "name": "stdout",
     "output_type": "stream",
     "text": [
      "Case 1 : input  -> [1, 8, 6, 2, 5, 4, 8, 3, 7] \n",
      "\t output -> 49               \n",
      "Result : Pass  Time : 0.0000164\n",
      "\n",
      "Case 2 : input  -> [1, 1] \n",
      "\t output -> 1               \n",
      "Result : Pass  Time : 0.0000041\n",
      "\n",
      "--------------------------------------------------\n",
      "Result : Pass  Time : 0.0000205\n"
     ]
    }
   ],
   "source": [
    "# 左右夾擠\n",
    "\n",
    "class Solution:\n",
    "    def maxArea(self, height: list) -> int:\n",
    "        left, right = 0, len(height) - 1\n",
    "        res = 0\n",
    "        \n",
    "        while left < right:\n",
    "            res = max(res, min(height[left],height[right]) * (right - left))\n",
    "            \n",
    "            if height[left] < height[right]:\n",
    "                left += 1\n",
    "            else:\n",
    "                right -=1\n",
    "                \n",
    "        return res\n",
    "        \n",
    "test(testcase,answer)"
   ]
  },
  {
   "cell_type": "code",
   "execution_count": 5,
   "metadata": {
    "tags": []
   },
   "outputs": [
    {
     "name": "stdout",
     "output_type": "stream",
     "text": [
      "Case 1 : input  -> [1, 8, 6, 2, 5, 4, 8, 3, 7] \n",
      "\t output -> 49               \n",
      "Result : Pass  Time : 0.0000099\n",
      "\n",
      "Case 2 : input  -> [1, 1] \n",
      "\t output -> 1               \n",
      "Result : Pass  Time : 0.0000044\n",
      "\n",
      "--------------------------------------------------\n",
      "Result : Pass  Time : 0.0000143\n"
     ]
    }
   ],
   "source": [
    "# 左右夾擠(優化)\n",
    "\n",
    "class Solution:\n",
    "    def maxArea(self, height: list) -> int:\n",
    "        left, res = 0, 0\n",
    "        right = len(height) - 1\n",
    "        \n",
    "        while right - left:\n",
    "            minH = min(height[left],height[right])\n",
    "            res = max(res, minH * (right - left))\n",
    "            \n",
    "            while height[left] <= minH and right-left:\n",
    "                left += 1\n",
    "            while height[right] <= minH and right-left:    \n",
    "                right -= 1\n",
    "\n",
    "        return res\n",
    "\n",
    "test(testcase,answer)"
   ]
  }
 ],
 "metadata": {
  "kernelspec": {
   "display_name": "Python 3",
   "language": "python",
   "name": "python3"
  },
  "language_info": {
   "codemirror_mode": {
    "name": "ipython",
    "version": 3
   },
   "file_extension": ".py",
   "mimetype": "text/x-python",
   "name": "python",
   "nbconvert_exporter": "python",
   "pygments_lexer": "ipython3",
   "version": "3.8.3"
  }
 },
 "nbformat": 4,
 "nbformat_minor": 4
}
