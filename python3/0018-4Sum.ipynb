{
 "cells": [
  {
   "cell_type": "markdown",
   "metadata": {},
   "source": [
    "##### Given an array nums of n integers, return an array of all the unique quadruplets [nums[a], nums[b], nums[c], nums[d]] such that:\n",
    "\n",
    "* 0 <= a, b, c, d < n\n",
    "* a, b, c, and d are distinct.\n",
    "* nums[a] + nums[b] + nums[c] + nums[d] == target\n",
    "\n",
    "##### You may return the answer in any order.\n",
    "\n",
    "<br>  \n",
    "\n",
    "**Constraints:**  \n",
    "* 1 <= nums.length <= 200\n",
    "* $-10^9$ <= nums[i] <= $10^9$\n",
    "* $-10^9$ <= target <= $10^9$\n",
    "\n",
    "**Example 1:**  \n",
    "```\n",
    "Input: nums = [1,0,-1,0,-2,2], target = 0\n",
    "Output: [[-2,-1,1,2],[-2,0,0,2],[-1,0,0,1]]\n",
    "```  \n",
    "\n",
    "**Example 2:**  \n",
    "```\n",
    "Input: nums = [2,2,2,2,2], target = 8\n",
    "Output: [[2,2,2,2]]\n",
    "```"
   ]
  },
  {
   "cell_type": "code",
   "execution_count": 1,
   "metadata": {
    "jupyter": {
     "source_hidden": true
    },
    "tags": []
   },
   "outputs": [],
   "source": [
    "testcase = ([[1,0,-1,0,-2,2], 0],\n",
    "            [[2,2,2,2,2], 8])\n",
    "\n",
    "answer = ([[-2,-1,1,2],[-2,0,0,2],[-1,0,0,1]],\n",
    "          [[2,2,2,2]])"
   ]
  },
  {
   "cell_type": "code",
   "execution_count": 2,
   "metadata": {
    "jupyter": {
     "source_hidden": true
    },
    "tags": []
   },
   "outputs": [],
   "source": [
    "import time\n",
    "\n",
    "def test(testcase, answer):\n",
    "    solution = Solution()\n",
    "    _result = []\n",
    "    _time = 0\n",
    "\n",
    "    for i, case in enumerate(testcase):\n",
    "        start = time.perf_counter()\n",
    "        output = solution.fourSum(*case)\n",
    "        process_time = time.perf_counter() - start\n",
    "        result = 'Pass' if all(o in answer[i] for o in output) else 'Fail'\n",
    "\n",
    "        _time += process_time\n",
    "        _result.append(result)\n",
    "        \n",
    "        print(f'Case {i+1} : input  -> {case} ')\n",
    "        print(f'\\t output -> {output}{\" \"*15}')\n",
    "        print(f'Result : {result}  Time : {process_time:.7f}\\n')\n",
    "    \n",
    "    _result = 'Pass' if 'Fail' not in _result else 'Fail'\n",
    "    print('-' * 50 + f'\\nResult : {_result}  Time : {_time:.7f}')"
   ]
  },
  {
   "cell_type": "code",
   "execution_count": 3,
   "metadata": {},
   "outputs": [
    {
     "name": "stdout",
     "output_type": "stream",
     "text": [
      "Case 1 : input  -> [[-2, -1, 0, 0, 1, 2], 0] \n",
      "\t output -> [[-2, -1, 1, 2], [-2, 0, 0, 2], [-1, 0, 0, 1]]               \n",
      "Result : Pass  Time : 0.0000288\n",
      "\n",
      "Case 2 : input  -> [[2, 2, 2, 2, 2], 8] \n",
      "\t output -> [[2, 2, 2, 2]]               \n",
      "Result : Pass  Time : 0.0000155\n",
      "\n",
      "--------------------------------------------------\n",
      "Result : Pass  Time : 0.0000443\n"
     ]
    }
   ],
   "source": [
    "# 左右夾擠, 更新第一個數字後再更新右邊界\n",
    "\n",
    "class Solution:\n",
    "    def fourSum(self, nums: list, target: int) -> list:\n",
    "        nums.sort()\n",
    "        res = []\n",
    "        \n",
    "        for i in range(len(nums)-2):\n",
    "            for j in range(i+1,len(nums)):\n",
    "                \n",
    "                right = len(nums) - 1\n",
    "                \n",
    "                for left in range(j+1,len(nums)):\n",
    "                    while left < right:\n",
    "                        _res = [nums[i], nums[j], nums[left], nums[right]]\n",
    "                        _v = sum(_res)\n",
    "                        \n",
    "                        if _v < target:\n",
    "                            break\n",
    "                                                \n",
    "                        if _v == target:\n",
    "                            if _res not in res:\n",
    "                                res.append(_res)\n",
    "                                \n",
    "                        right -= 1\n",
    "        return res\n",
    "    \n",
    "test(testcase, answer)"
   ]
  },
  {
   "cell_type": "code",
   "execution_count": 4,
   "metadata": {},
   "outputs": [
    {
     "name": "stdout",
     "output_type": "stream",
     "text": [
      "Case 1 : input  -> [[-2, -1, 0, 0, 1, 2], 0] \n",
      "\t output -> [[-2, -1, 1, 2], [-2, 0, 0, 2], [-1, 0, 0, 1]]               \n",
      "Result : Pass  Time : 0.0000236\n",
      "\n",
      "Case 2 : input  -> [[2, 2, 2, 2, 2], 8] \n",
      "\t output -> [[2, 2, 2, 2]]               \n",
      "Result : Pass  Time : 0.0000144\n",
      "\n",
      "--------------------------------------------------\n",
      "Result : Pass  Time : 0.0000380\n"
     ]
    }
   ],
   "source": [
    "# 2元搜尋\n",
    "\n",
    "from bisect import bisect_left\n",
    "\n",
    "class Solution:\n",
    "    def fourSum(self, nums: list, target: int) -> list:\n",
    "        nums.sort()\n",
    "        L = len(nums)\n",
    "        res = []\n",
    "        \n",
    "        for i, n1 in enumerate(nums[:-3]):\n",
    "            for j, n2 in enumerate(nums[i+1:-2]):\n",
    "                for k, n3 in enumerate(nums[i+j+2:-1]):\n",
    "                    n4 = target - n1 - n2 -n3\n",
    "                    bias = i + j + k + 3\n",
    "                    \n",
    "                    if nums[bias] > n4:\n",
    "                        break\n",
    "                    elif nums[-1] < n4:\n",
    "                        continue\n",
    "                    \n",
    "                    idx = bisect_left(nums[bias:], n4) + bias\n",
    "                    if  idx != L and nums[idx] == n4:\n",
    "                            if [n1, n2, n3, n4] not in res:\n",
    "                                res.append([n1, n2, n3, n4])\n",
    "        return res\n",
    "    \n",
    "test(testcase, answer)"
   ]
  }
 ],
 "metadata": {
  "kernelspec": {
   "display_name": "Python 3",
   "language": "python",
   "name": "python3"
  },
  "language_info": {
   "codemirror_mode": {
    "name": "ipython",
    "version": 3
   },
   "file_extension": ".py",
   "mimetype": "text/x-python",
   "name": "python",
   "nbconvert_exporter": "python",
   "pygments_lexer": "ipython3",
   "version": "3.8.3"
  }
 },
 "nbformat": 4,
 "nbformat_minor": 4
}
