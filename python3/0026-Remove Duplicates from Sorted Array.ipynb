{
 "cells": [
  {
   "cell_type": "markdown",
   "metadata": {},
   "source": [
    "##### Given an integer array nums sorted in non-decreasing order, remove the duplicates in-place such that each unique element appears only once. \n",
    "##### The relative order of the elements should be kept the same.\n",
    "##### Since it is impossible to change the length of the array in some languages, you must instead have the result be placed in the first part of the array nums. \n",
    "##### More formally, if there are k elements after removing the duplicates, then the first k elements of nums should hold the final result.\n",
    "##### It does not matter what you leave beyond the first k elements. Return k after placing the final result in the first k slots of nums.\n",
    "##### Do not allocate extra space for another array. You must do this by modifying the input array in-place with O(1) extra memory.\n",
    "##### **Custom Judge:**\n",
    "\n",
    "##### The judge will test your solution with the following code:\n",
    "```\n",
    "int[] nums = [...]; // Input array\n",
    "int[] expectedNums = [...]; // The expected answer with correct length\n",
    "\n",
    "int k = removeDuplicates(nums); // Calls your implementation\n",
    "\n",
    "assert k == expectedNums.length;\n",
    "for (int i = 0; i < k; i++) {\n",
    "    assert nums[i] == expectedNums[i];\n",
    "}\n",
    "```\n",
    "##### If all assertions pass, then your solution will be accepted.\n",
    "\n",
    "</br>\n",
    "\n",
    "**Constraints:**  \n",
    "* 0 <= nums.length <= 3 * 10$^4$\n",
    "* -100 <= nums[i] <= 100\n",
    "* nums is sorted in non-decreasing order.1 <= n <= 8\n",
    "\n",
    "**Example 1:**  \n",
    "```\n",
    "Input: nums = [1,1,2]\n",
    "Output: 2, nums = [1,2,_]\n",
    "Explanation: Your function should return k = 2, with the first two elements of nums being 1 and 2 respectively.\n",
    "It does not matter what you leave beyond the returned k (hence they are underscores).\n",
    "```  \n",
    "\n",
    "**Example 2:**  \n",
    "```\n",
    "Input: nums = [0,0,1,1,1,2,2,3,3,4]\n",
    "Output: 5, nums = [0,1,2,3,4,_,_,_,_,_]\n",
    "Explanation: Your function should return k = 5, with the first five elements of nums being 0, 1, 2, 3, and 4 respectively.\n",
    "It does not matter what you leave beyond the returned k (hence they are underscores).\n",
    "```"
   ]
  },
  {
   "cell_type": "code",
   "execution_count": 1,
   "metadata": {
    "jupyter": {
     "source_hidden": true
    },
    "tags": []
   },
   "outputs": [],
   "source": [
    "testcase = ([1,1,2],\n",
    "            [0,0,1,1,1,2,2,3,3,4])\n",
    "\n",
    "answer = (2,\n",
    "          5)"
   ]
  },
  {
   "cell_type": "code",
   "execution_count": 2,
   "metadata": {
    "jupyter": {
     "source_hidden": true
    },
    "tags": []
   },
   "outputs": [],
   "source": [
    "import time\n",
    "\n",
    "def test(testcase, answer):\n",
    "    solution = Solution()\n",
    "    _result = []\n",
    "    _time = 0\n",
    "\n",
    "    for i, case in enumerate(testcase):\n",
    "        nums = case.copy()\n",
    "        start = time.perf_counter()\n",
    "        output = solution.removeDuplicates(nums)\n",
    "        process_time = time.perf_counter() - start\n",
    "        \n",
    "        # Custom Judge\n",
    "        if output == answer[i]:\n",
    "            expectedNums = sorted(list(set(nums)))\n",
    "            res=[]\n",
    "            for i in range(len(expectedNums)):\n",
    "                res.append(nums[i]==expectedNums[i])\n",
    "            result = 'Pass' if all(res) else 'Fail'\n",
    "        else:\n",
    "            result = 'Fail'\n",
    "        output = (output, nums[:len(expectedNums)])\n",
    "        \n",
    "\n",
    "        _time += process_time\n",
    "        _result.append(result)\n",
    "        \n",
    "        print(f'Case {i+1} : input  -> {case} ')\n",
    "        print(f'\\t output -> {output}{\" \"*15}')\n",
    "        print(f'Result : {result}  Time : {process_time:.7f}\\n')\n",
    "    \n",
    "    _result = 'Pass' if 'Fail' not in _result else 'Fail'\n",
    "    print('-' * 50 + f'\\nResult : {_result}  Time : {_time:.7f}')"
   ]
  },
  {
   "cell_type": "code",
   "execution_count": 3,
   "metadata": {},
   "outputs": [
    {
     "name": "stdout",
     "output_type": "stream",
     "text": [
      "Case 2 : input  -> [1, 1, 2] \n",
      "\t output -> (2, [1, 2])               \n",
      "Result : Pass  Time : 0.0000073\n",
      "\n",
      "Case 5 : input  -> [0, 0, 1, 1, 1, 2, 2, 3, 3, 4] \n",
      "\t output -> (5, [0, 1, 2, 3, 4])               \n",
      "Result : Pass  Time : 0.0000088\n",
      "\n",
      "--------------------------------------------------\n",
      "Result : Pass  Time : 0.0000161\n"
     ]
    }
   ],
   "source": [
    "# 切片 賦值\n",
    "\n",
    "class Solution:\n",
    "    def removeDuplicates(self, nums: list) -> int:\n",
    "        nums[:] = sorted(set(nums))\n",
    "        return len(nums)\n",
    "test(testcase, answer)"
   ]
  }
 ],
 "metadata": {
  "kernelspec": {
   "display_name": "Python 3",
   "language": "python",
   "name": "python3"
  },
  "language_info": {
   "codemirror_mode": {
    "name": "ipython",
    "version": 3
   },
   "file_extension": ".py",
   "mimetype": "text/x-python",
   "name": "python",
   "nbconvert_exporter": "python",
   "pygments_lexer": "ipython3",
   "version": "3.8.3"
  }
 },
 "nbformat": 4,
 "nbformat_minor": 4
}
