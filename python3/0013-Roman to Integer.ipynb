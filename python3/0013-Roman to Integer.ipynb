{
 "cells": [
  {
   "cell_type": "markdown",
   "metadata": {
    "tags": []
   },
   "source": [
    "##### Roman numerals are represented by seven different symbols: I, V, X, L, C, D and M.\n",
    "|Symbol|Value|\n",
    "|------|-----|\n",
    "|I     |1    |\n",
    "|V     |5    |\n",
    "|X     |10   |\n",
    "|L     |50   |\n",
    "|C     |100  |\n",
    "|D     |500  |\n",
    "|M     |1000 |\n",
    "\n",
    "\n",
    "##### For example, 2 is written as II in Roman numeral, just two one's added together.  12 is written as XII, which is simply X + II.\n",
    "##### The number 27 is written as XXVII, which is XX + V + II. Roman numerals are usually written largest to smallest from left to right.\n",
    "##### However, the numeral for four is not IIII. Instead, the number four is written as IV. Because the one is before the five we subtract it making four.\n",
    "##### The same principle applies to the number nine, which is written as IX. There are six instances where subtraction is used:\n",
    "\n",
    "* I can be placed before V (5) and X (10) to make 4 and 9. \n",
    "* X can be placed before L (50) and C (100) to make 40 and 90. \n",
    "* C can be placed before D (500) and M (1000) to make 400 and 900.\n",
    "\n",
    "##### Given an integer, convert it to a roman numeral.\n",
    "\n",
    "\n",
    "<br>  \n",
    "\n",
    "**Constraints:**  \n",
    "* 1 <= s.length <= 15\n",
    "* s contains only the characters ('I', 'V', 'X', 'L', 'C', 'D', 'M').\n",
    "* It is guaranteed that s is a valid roman numeral in the range [1, 3999].\n",
    "\n",
    "**Example 1:**  \n",
    "```\n",
    "Input: s = \"III\"\n",
    "Output: 3\n",
    "Explanation: III = 3.\n",
    "```  \n",
    "\n",
    "**Example 2:**  \n",
    "```\n",
    "Input: s = \"LVIII\"\n",
    "Output: 58\n",
    "Explanation: L = 50, V= 5, III = 3.\n",
    "```\n",
    "\n",
    "**Example 3:**  \n",
    "```\n",
    "Input: s = \"MCMXCIV\"\n",
    "Output: 1994\n",
    "Explanation: M = 1000, CM = 900, XC = 90 and IV = 4.\n",
    "```"
   ]
  },
  {
   "cell_type": "code",
   "execution_count": 1,
   "metadata": {},
   "outputs": [],
   "source": [
    "testcase = ('III',\n",
    "            'LVIII',\n",
    "            'MCMXCIV')\n",
    "\n",
    "answer = (3,\n",
    "          58,\n",
    "          1994)"
   ]
  },
  {
   "cell_type": "code",
   "execution_count": 2,
   "metadata": {},
   "outputs": [],
   "source": [
    "import time\n",
    "\n",
    "def test(testcase, answer):\n",
    "    solution = Solution()\n",
    "    _result = []\n",
    "    _time = 0\n",
    "\n",
    "    for i, case in enumerate(testcase):\n",
    "        start = time.perf_counter()\n",
    "        output = solution.romanToInt(case)\n",
    "        process_time = time.perf_counter() - start\n",
    "        result = 'Pass' if output == answer[i] else 'Fail'\n",
    "\n",
    "        _time += process_time\n",
    "        _result.append(result)\n",
    "        \n",
    "        print(f'Case {i+1} : input  -> {case} ')\n",
    "        print(f'\\t output -> {output}{\" \"*15}')\n",
    "        print(f'Result : {result}  Time : {process_time:.7f}\\n')\n",
    "    \n",
    "    _result = 'Pass' if 'Fail' not in _result else 'Fail'\n",
    "    print('-' * 50 + f'\\nResult : {_result}  Time : {_time:.7f}')"
   ]
  },
  {
   "cell_type": "code",
   "execution_count": 3,
   "metadata": {},
   "outputs": [
    {
     "name": "stdout",
     "output_type": "stream",
     "text": [
      "Case 1 : input  -> III \n",
      "\t output -> 3               \n",
      "Result : Pass  Time : 0.0000102\n",
      "\n",
      "Case 2 : input  -> LVIII \n",
      "\t output -> 58               \n",
      "Result : Pass  Time : 0.0000143\n",
      "\n",
      "Case 3 : input  -> MCMXCIV \n",
      "\t output -> 1994               \n",
      "Result : Pass  Time : 0.0000091\n",
      "\n",
      "--------------------------------------------------\n",
      "Result : Pass  Time : 0.0000336\n"
     ]
    }
   ],
   "source": [
    "# 窮舉\n",
    "\n",
    "class Solution:\n",
    "    def romanToInt(self, s: str) -> int:\n",
    "        res = 0\n",
    "        symbol = {\"M\" : 1000,\n",
    "                  \"CM\" : 900,\n",
    "                  \"D\" : 500,\n",
    "                  \"CD\" : 400,\n",
    "                  \"C\" : 100,\n",
    "                  \"XC\" : 90,\n",
    "                  \"L\" : 50,\n",
    "                  \"XL\" : 40,\n",
    "                  \"X\" : 10,\n",
    "                  \"IX\" : 9,\n",
    "                  \"V\" : 5,\n",
    "                  \"IV\" : 4,\n",
    "                  \"I\" : 1}\n",
    "        \n",
    "        for sym, n in symbol.items():\n",
    "            while s.startswith(sym):\n",
    "                res += n  \n",
    "                s = s[len(sym):]\n",
    "        return res\n",
    "        \n",
    "test(testcase,answer)"
   ]
  },
  {
   "cell_type": "code",
   "execution_count": 4,
   "metadata": {
    "tags": []
   },
   "outputs": [
    {
     "name": "stdout",
     "output_type": "stream",
     "text": [
      "Case 1 : input  -> III \n",
      "\t output -> 3               \n",
      "Result : Pass  Time : 0.0000073\n",
      "\n",
      "Case 2 : input  -> LVIII \n",
      "\t output -> 58               \n",
      "Result : Pass  Time : 0.0000074\n",
      "\n",
      "Case 3 : input  -> MCMXCIV \n",
      "\t output -> 1994.0               \n",
      "Result : Pass  Time : 0.0000111\n",
      "\n",
      "--------------------------------------------------\n",
      "Result : Pass  Time : 0.0000258\n"
     ]
    }
   ],
   "source": [
    "# 換位時更改字典\n",
    "\n",
    "class Solution:\n",
    "    def romanToInt(self, s: str) -> int:\n",
    "        res = 0\n",
    "        symbol = {\"M\" : 1000,\n",
    "                  \"D\" : 500,\n",
    "                  \"C\" : 100,\n",
    "                  \"L\" : 50,\n",
    "                  \"X\" : 10,\n",
    "                  \"V\" : 5,\n",
    "                  \"I\" : 1}\n",
    "        keys = list(symbol.keys())\n",
    "        ch_keys = [\"C\",\"X\",\"I\"]\n",
    "        \n",
    "        for w in s:\n",
    "            if w in ch_keys:\n",
    "                ch_keys.pop(ch_keys.index(w))\n",
    "                symbol[keys[keys.index(w)-2]] *= 0.8\n",
    "                symbol[keys[keys.index(w)-1]] *= 0.6\n",
    "            \n",
    "            res += symbol[w]\n",
    "                \n",
    "        return res\n",
    "        \n",
    "test(testcase,answer)"
   ]
  },
  {
   "cell_type": "code",
   "execution_count": 5,
   "metadata": {},
   "outputs": [
    {
     "name": "stdout",
     "output_type": "stream",
     "text": [
      "Case 1 : input  -> III \n",
      "\t output -> 3               \n",
      "Result : Pass  Time : 0.0000057\n",
      "\n",
      "Case 2 : input  -> LVIII \n",
      "\t output -> 58               \n",
      "Result : Pass  Time : 0.0000071\n",
      "\n",
      "Case 3 : input  -> MCMXCIV \n",
      "\t output -> 1994               \n",
      "Result : Pass  Time : 0.0000062\n",
      "\n",
      "--------------------------------------------------\n",
      "Result : Pass  Time : 0.0000190\n"
     ]
    }
   ],
   "source": [
    "# 判斷key位置\n",
    "\n",
    "class Solution:\n",
    "    def romanToInt(self, s: str) -> int:\n",
    "        res = 0\n",
    "        symbol = {\"M\" : 1000,\n",
    "                  \"D\" : 500,\n",
    "                  \"C\" : 100,\n",
    "                  \"L\" : 50,\n",
    "                  \"X\" : 10,\n",
    "                  \"V\" : 5,\n",
    "                  \"I\" : 1}\n",
    "        keys = list(symbol.keys())\n",
    "        prev = 'M'\n",
    "        \n",
    "        for w in s:        \n",
    "            if keys.index(w) < keys.index(prev):\n",
    "                res -= symbol[prev] *2\n",
    "            res += symbol[w]\n",
    "            prev = w\n",
    "                \n",
    "        return res\n",
    "        \n",
    "test(testcase,answer)"
   ]
  }
 ],
 "metadata": {
  "kernelspec": {
   "display_name": "Python 3",
   "language": "python",
   "name": "python3"
  },
  "language_info": {
   "codemirror_mode": {
    "name": "ipython",
    "version": 3
   },
   "file_extension": ".py",
   "mimetype": "text/x-python",
   "name": "python",
   "nbconvert_exporter": "python",
   "pygments_lexer": "ipython3",
   "version": "3.8.3"
  }
 },
 "nbformat": 4,
 "nbformat_minor": 4
}
