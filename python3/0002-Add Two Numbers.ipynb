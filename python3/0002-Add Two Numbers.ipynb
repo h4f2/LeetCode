{
 "cells": [
  {
   "cell_type": "markdown",
   "metadata": {},
   "source": [
    "##### You are given two non-empty linked lists representing two non-negative integers. The digits are stored in reverse order, and each of ##### their nodes contains a single digit. Add the two numbers and return the sum as a linked list.\n",
    "\n",
    "##### You may assume the two numbers do not contain any leading zero, except the number 0 itself.\n",
    "<br>\n",
    "\n",
    "**Constraints:**\n",
    "   * The number of nodes in each linked list is in the range [1, 100].\n",
    "   * 0 <= Node.val <= 9\n",
    "   * It is guaranteed that the list represents a number that does not have leading zeros.\n",
    "   \n",
    "\n",
    "**Example 1:**  \n",
    "```\n",
    "Input: l1 = [2,4,3], l2 = [5,6,4]\n",
    "Output: [7,0,8]\n",
    "Explanation: 342 + 465 = 807.\n",
    "```\n",
    "**Example 2:**  \n",
    "```\n",
    "Input: l1 = [0], l2 = [0]\n",
    "Output: [0]\n",
    "```    \n",
    "**Example 3:**  \n",
    "```\n",
    "Input: l1 = [9,9,9,9,9,9,9], l2 = [9,9,9,9]\n",
    "Output: [8,9,9,9,0,0,0,1]\n",
    "```"
   ]
  },
  {
   "cell_type": "code",
   "execution_count": 1,
   "metadata": {},
   "outputs": [],
   "source": [
    "# Definition for singly-linked list.\n",
    "class ListNode:\n",
    "    def __init__(self, val=0, next=None):\n",
    "        self.val = val\n",
    "        self.next = next\n",
    "        \n",
    "class Solution:\n",
    "    def addTwoNumbers(self, l1: ListNode, l2: ListNode) -> ListNode:\n",
    "        answer = ListNode(0)\n",
    "        storage_node = ans\n",
    "        carry = 0\n",
    "        \n",
    "        while l1 or l2 or carry:\n",
    "            val1 = l1.val if l1 else 0\n",
    "            val2 = l2.val if l2 else 0\n",
    "            carry, out = divmod(val1 + val2 + carry, 10)\n",
    "            \n",
    "            storage_node.next = ListNode(out)\n",
    "            storage_node = storage_node.next\n",
    "        \n",
    "            l1 = l1.next if l1 else l1\n",
    "            l2 = l2.next if l2 else l2\n",
    "        \n",
    "        return answer.next"
   ]
  },
  {
   "cell_type": "code",
   "execution_count": 2,
   "metadata": {},
   "outputs": [],
   "source": [
    "class Solution:\n",
    "    def addTwoNumbers(self, l1: list, l2: list) -> list:\n",
    "        answer = []\n",
    "        carry = 0\n",
    "        l1, l2 = l1[:], l2[:]\n",
    "        \n",
    "        while l1 or l2 or carry:\n",
    "            val1 = l1.pop() if l1 else 0\n",
    "            val2 = l2.pop() if l2 else 0\n",
    "            carry, out = divmod(val1 + val2 + carry, 10)\n",
    "            answer.append(out)\n",
    "        \n",
    "        return answer"
   ]
  }
 ],
 "metadata": {
  "kernelspec": {
   "display_name": "Python 3",
   "language": "python",
   "name": "python3"
  },
  "language_info": {
   "codemirror_mode": {
    "name": "ipython",
    "version": 3
   },
   "file_extension": ".py",
   "mimetype": "text/x-python",
   "name": "python",
   "nbconvert_exporter": "python",
   "pygments_lexer": "ipython3",
   "version": "3.8.3"
  }
 },
 "nbformat": 4,
 "nbformat_minor": 4
}
