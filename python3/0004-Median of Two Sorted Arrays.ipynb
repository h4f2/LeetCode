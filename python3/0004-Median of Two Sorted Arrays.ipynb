{
 "cells": [
  {
   "cell_type": "markdown",
   "metadata": {},
   "source": [
    "##### Given two sorted arrays nums1 and nums2 of size m and n respectively, return the median of the two sorted arrays.\n",
    "##### The overall run time complexity should be O(log (m+n)).\n",
    "<br>  \n",
    "\n",
    "**Constraints:**  \n",
    "* nums1.length == m\n",
    "* nums2.length == n\n",
    "* 0 <= m <= 1000\n",
    "* 0 <= n <= 1000\n",
    "* 1 <= m + n <= 2000\n",
    "* -106 <= nums1[i], nums2[i] <= 106\n",
    "   \n",
    "\n",
    "**Example 1:**  \n",
    "`Input: nums1 = [1,3], nums2 = [2]`  \n",
    "`Output: 2.00000`  \n",
    "`Explanation: merged array = [1,2,3] and median is 2.`\n",
    "\n",
    "**Example 2:**  \n",
    "`Input: nums1 = [1,2], nums2 = [3,4]`  \n",
    "`Output: 2.50000`  \n",
    "`Explanation: merged array = [1,2,3,4] and median is (2 + 3) / 2 = 2.5.`"
   ]
  },
  {
   "cell_type": "code",
   "execution_count": 1,
   "metadata": {},
   "outputs": [],
   "source": [
    "testcase = (([1,3],[2]),\n",
    "            ([1,2],[3,4]))\n",
    "\n",
    "answer = (2.,\n",
    "          2.5)"
   ]
  },
  {
   "cell_type": "code",
   "execution_count": 2,
   "metadata": {},
   "outputs": [],
   "source": [
    "import time\n",
    "\n",
    "def test(testcase, answer):\n",
    "    solution = Solution()\n",
    "    _result = []\n",
    "    _time = 0\n",
    "\n",
    "    for i, case in enumerate(testcase):\n",
    "        start = time.perf_counter()\n",
    "        output = solution.findMedianSortedArrays(*case)\n",
    "        process_time = time.perf_counter() - start\n",
    "        result = 'Pass' if output==answer[i] else 'Fail'\n",
    "\n",
    "        _time += process_time\n",
    "        _result.append(result)\n",
    "        \n",
    "        print(f'Case {i+1} : input  -> {case} ')\n",
    "        print(f'\\t output -> {output}{\" \"*15}')\n",
    "        print(f'Result : {result}  Time : {process_time:.7f}\\n')\n",
    "    \n",
    "    _result = 'Pass' if 'Fail' not in _result else 'Fail'\n",
    "    print('-' * 50 + f'\\nResult : {_result}  Time : {_time:.7f}')"
   ]
  },
  {
   "cell_type": "code",
   "execution_count": 3,
   "metadata": {},
   "outputs": [
    {
     "name": "stdout",
     "output_type": "stream",
     "text": [
      "Case 1 : input  -> ([1, 3], [2]) \n",
      "\t output -> 2               \n",
      "Result : Pass  Time : 0.0000055\n",
      "\n",
      "Case 2 : input  -> ([1, 2], [3, 4]) \n",
      "\t output -> 2.5               \n",
      "Result : Pass  Time : 0.0000052\n",
      "\n",
      "--------------------------------------------------\n",
      "Result : Pass  Time : 0.0000107\n"
     ]
    }
   ],
   "source": [
    "class Solution:\n",
    "    def findMedianSortedArrays(self, nums1: list, nums2: list) -> float:\n",
    "        arr = sorted(nums1 + nums2)\n",
    "        L = len(arr)\n",
    "        return arr[L // 2] if L % 2 else (arr[L // 2 - 1] + arr[L // 2]) / 2\n",
    "    \n",
    "test(testcase,answer)"
   ]
  }
 ],
 "metadata": {
  "kernelspec": {
   "display_name": "Python 3",
   "language": "python",
   "name": "python3"
  },
  "language_info": {
   "codemirror_mode": {
    "name": "ipython",
    "version": 3
   },
   "file_extension": ".py",
   "mimetype": "text/x-python",
   "name": "python",
   "nbconvert_exporter": "python",
   "pygments_lexer": "ipython3",
   "version": "3.8.3"
  }
 },
 "nbformat": 4,
 "nbformat_minor": 4
}
