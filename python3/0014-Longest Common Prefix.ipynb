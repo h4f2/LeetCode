{
 "cells": [
  {
   "cell_type": "markdown",
   "metadata": {},
   "source": [
    "##### Write a function to find the longest common prefix string amongst an array of strings.\n",
    "##### If there is no common prefix, return an empty string \"\".\n",
    "\n",
    "<br>  \n",
    "\n",
    "**Constraints:**  \n",
    "* 1 <= strs.length <= 200\n",
    "* 0 <= strs[i].length <= 200\n",
    "* strs[i] consists of only lower-case English letters.\n",
    "\n",
    "**Example 1:**  \n",
    "```\n",
    "Input: strs = [\"flower\",\"flow\",\"flight\"]\n",
    "Output: \"fl\"\n",
    "```  \n",
    "\n",
    "**Example 2:**  \n",
    "```\n",
    "Input: strs = [\"dog\",\"racecar\",\"car\"]\n",
    "Output: \"\"\n",
    "Explanation: There is no common prefix among the input strings.\n",
    "```"
   ]
  },
  {
   "cell_type": "code",
   "execution_count": 1,
   "metadata": {},
   "outputs": [],
   "source": [
    "testcase = ([\"flower\",\"flow\",\"flight\"],\n",
    "            [\"dog\",\"racecar\",\"car\"],)\n",
    "\n",
    "answer = (\"fl\",\n",
    "          \"\",)"
   ]
  },
  {
   "cell_type": "code",
   "execution_count": 2,
   "metadata": {},
   "outputs": [],
   "source": [
    "import time\n",
    "\n",
    "def test(testcase, answer):\n",
    "    solution = Solution()\n",
    "    _result = []\n",
    "    _time = 0\n",
    "\n",
    "    for i, case in enumerate(testcase):\n",
    "        start = time.perf_counter()\n",
    "        output = solution.longestCommonPrefix(case)\n",
    "        process_time = time.perf_counter() - start\n",
    "        result = 'Pass' if output == answer[i] else 'Fail'\n",
    "\n",
    "        _time += process_time\n",
    "        _result.append(result)\n",
    "        \n",
    "        print(f'Case {i+1} : input  -> {case} ')\n",
    "        print(f'\\t output -> {output}{\" \"*15}')\n",
    "        print(f'Result : {result}  Time : {process_time:.7f}\\n')\n",
    "    \n",
    "    _result = 'Pass' if 'Fail' not in _result else 'Fail'\n",
    "    print('-' * 50 + f'\\nResult : {_result}  Time : {_time:.7f}')"
   ]
  },
  {
   "cell_type": "code",
   "execution_count": 3,
   "metadata": {},
   "outputs": [
    {
     "name": "stdout",
     "output_type": "stream",
     "text": [
      "Case 1 : input  -> ['flower', 'flow', 'flight'] \n",
      "\t output -> fl               \n",
      "Result : Pass  Time : 0.0000218\n",
      "\n",
      "Case 2 : input  -> ['dog', 'racecar', 'car'] \n",
      "\t output ->                \n",
      "Result : Pass  Time : 0.0000159\n",
      "\n",
      "--------------------------------------------------\n",
      "Result : Pass  Time : 0.0000377\n"
     ]
    }
   ],
   "source": [
    "# 不排序\n",
    "\n",
    "class Solution:\n",
    "    def longestCommonPrefix(self, strs: list) -> str:\n",
    "        res = ''\n",
    "        \n",
    "        for i in range(min(map(len, strs))):\n",
    "            if all(s[i] == strs[0][i] for s in strs):\n",
    "                res += strs[0][i]\n",
    "            else:\n",
    "                break\n",
    "                \n",
    "        return res\n",
    "\n",
    "test(testcase, answer)"
   ]
  },
  {
   "cell_type": "code",
   "execution_count": 4,
   "metadata": {},
   "outputs": [
    {
     "name": "stdout",
     "output_type": "stream",
     "text": [
      "Case 1 : input  -> ['flower', 'flow', 'flight'] \n",
      "\t output -> fl               \n",
      "Result : Pass  Time : 0.0000063\n",
      "\n",
      "Case 2 : input  -> ['dog', 'racecar', 'car'] \n",
      "\t output ->                \n",
      "Result : Pass  Time : 0.0000062\n",
      "\n",
      "--------------------------------------------------\n",
      "Result : Pass  Time : 0.0000125\n"
     ]
    }
   ],
   "source": [
    "# 最大最小比較\n",
    "\n",
    "class Solution:\n",
    "    def longestCommonPrefix(self, strs):\n",
    "        strs = sorted(strs)\n",
    "        res = ''\n",
    "        \n",
    "        if len(strs):\n",
    "             for i in strs[0]:\n",
    "                if strs[-1].startswith(res + i):\n",
    "                    res += i\n",
    "                else:\n",
    "                    break\n",
    "                    \n",
    "        return res\n",
    "    \n",
    "test(testcase, answer)"
   ]
  }
 ],
 "metadata": {
  "kernelspec": {
   "display_name": "Python 3",
   "language": "python",
   "name": "python3"
  },
  "language_info": {
   "codemirror_mode": {
    "name": "ipython",
    "version": 3
   },
   "file_extension": ".py",
   "mimetype": "text/x-python",
   "name": "python",
   "nbconvert_exporter": "python",
   "pygments_lexer": "ipython3",
   "version": "3.8.3"
  }
 },
 "nbformat": 4,
 "nbformat_minor": 4
}
