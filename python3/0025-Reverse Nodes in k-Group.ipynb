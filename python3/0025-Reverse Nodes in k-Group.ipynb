{
 "cells": [
  {
   "cell_type": "markdown",
   "metadata": {},
   "source": [
    "##### Given the head of a linked list, reverse the nodes of the list k at a time, and return the modified list.\n",
    "\n",
    "##### k is a positive integer and is less than or equal to the length of the linked list. If the number of nodes is not a multiple of k then left-out nodes, in the end, should remain as it is.\n",
    "\n",
    "##### You may not alter the values in the list's nodes, only nodes themselves may be changed.\n",
    "\n",
    "<br>  \n",
    "\n",
    "**Constraints:**\n",
    "\n",
    "* The number of nodes in the list is n.\n",
    "* 1 <= k <= n <= 5000\n",
    "* 0 <= Node.val <= 1000\n",
    "\n",
    "\n",
    "\n",
    "**Example 1:**  \n",
    "![](../_pictures/0025_1.jpg)\n",
    "```\n",
    "Input: head = [1,2,3,4,5], k = 2\n",
    "Output: [2,1,4,3,5]\n",
    "```  \n",
    "\n",
    "**Example 2:**  \n",
    "![](../_pictures/0025_2.jpg)\n",
    "```\n",
    "Input: head = [1,2,3,4,5], k = 3\n",
    "Output: [3,2,1,4,5]\n",
    "```"
   ]
  },
  {
   "cell_type": "code",
   "execution_count": null,
   "metadata": {},
   "outputs": [],
   "source": [
    "# 取出 排序 放回\n",
    "\n",
    "# Definition for singly-linked list.\n",
    "class ListNode:\n",
    "    def __init__(self, val=0, next=None):\n",
    "        self.val = val\n",
    "        self.next = next\n",
    "        \n",
    "class Solution:\n",
    "    def reverseKGroup(self, head: Optional[ListNode], k: int) -> Optional[ListNode]:\n",
    "\n",
    "        _list = []\n",
    "        \n",
    "        while head:\n",
    "            _list.append(head.val)\n",
    "            head = head.next\n",
    "        \n",
    "        for i in range(0, len(_list)-k+1, k):\n",
    "            _list[i:i+k] = _list[i:i+k][::-1]\n",
    "        \n",
    "        res = None\n",
    "        for i in _list[::-1]:\n",
    "            res = ListNode(i, res)\n",
    "        \n",
    "        return res"
   ]
  },
  {
   "cell_type": "code",
   "execution_count": null,
   "metadata": {},
   "outputs": [],
   "source": [
    "# 指標 遞迴 參考\n",
    "\n",
    "class Solution:\n",
    "    def reverseKGroup(self, head: Optional[ListNode], k: int) -> Optional[ListNode]:\n",
    "        if not head or not head.next:\n",
    "            return head\n",
    "\n",
    "        tail = head\n",
    "        for i in range(k):\n",
    "            if not tail:\n",
    "                return head\n",
    "            tail = tail.next\n",
    "\n",
    "        tail = self.reverseKGroup(tail, k)\n",
    "\n",
    "        for i in range(k):\n",
    "            _next = head.next\n",
    "            head.next = tail\n",
    "            tail = head\n",
    "            head = _next\n",
    "            \n",
    "        return tail"
   ]
  }
 ],
 "metadata": {
  "kernelspec": {
   "display_name": "Python 3",
   "language": "python",
   "name": "python3"
  },
  "language_info": {
   "codemirror_mode": {
    "name": "ipython",
    "version": 3
   },
   "file_extension": ".py",
   "mimetype": "text/x-python",
   "name": "python",
   "nbconvert_exporter": "python",
   "pygments_lexer": "ipython3",
   "version": "3.8.3"
  }
 },
 "nbformat": 4,
 "nbformat_minor": 4
}
