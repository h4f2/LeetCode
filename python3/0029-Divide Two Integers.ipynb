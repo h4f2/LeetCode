{
 "cells": [
  {
   "cell_type": "markdown",
   "metadata": {},
   "source": [
    "##### Given two integers dividend and divisor, divide two integers without using multiplication, division, and mod operator.\n",
    "\n",
    "##### The integer division should truncate toward zero, which means losing its fractional part. \n",
    "##### For example, 8.345 would be truncated to 8, and -2.7335 would be truncated to -2.\n",
    "\n",
    "##### Return the quotient after dividing dividend by divisor.\n",
    "\n",
    "##### Note: Assume we are dealing with an environment that could only store integers within the 32-bit signed integer range: [−2$^{31}$, 2$^{31}$ − 1].\n",
    "##### For this problem, if the quotient is strictly greater than 2$^{31}$ - 1, then return 2$^{31}$ - 1, and if the quotient is strictly less than -2$^{31}$, then return -2$^{31}$.\n",
    "\n",
    "</br>\n",
    "\n",
    "**Constraints:**  \n",
    "* -2$^{31}$ <= dividend, divisor <= 2$^{31}$ - 1\n",
    "* divisor != 0\n",
    "\n",
    "\n",
    "**Example 1:**  \n",
    "```\n",
    "Input: dividend = 10, divisor = 3\n",
    "Output: 3\n",
    "Explanation: 10/3 = 3.33333.. which is truncated to 3.\n",
    "```  \n",
    "\n",
    "**Example 2:**  \n",
    "```\n",
    "Input: dividend = 7, divisor = -3\n",
    "Output: -2\n",
    "Explanation: 7/-3 = -2.33333.. which is truncated to -2.\n",
    "```"
   ]
  },
  {
   "cell_type": "code",
   "execution_count": 1,
   "metadata": {
    "jupyter": {
     "source_hidden": true
    },
    "tags": []
   },
   "outputs": [],
   "source": [
    "testcase = ([10, 3],\n",
    "            [7, -3])\n",
    "\n",
    "answer = (3,\n",
    "          -2)"
   ]
  },
  {
   "cell_type": "code",
   "execution_count": 2,
   "metadata": {
    "jupyter": {
     "source_hidden": true
    },
    "tags": []
   },
   "outputs": [],
   "source": [
    "import time\n",
    "\n",
    "def test(testcase, answer):\n",
    "    solution = Solution()\n",
    "    _result = []\n",
    "    _time = 0\n",
    "\n",
    "    for i, case in enumerate(testcase):\n",
    "        start = time.perf_counter()\n",
    "        output = solution.divide(*case)\n",
    "        process_time = time.perf_counter() - start\n",
    "        result = 'Pass' if output==answer[i] else 'Fail'\n",
    "\n",
    "        _time += process_time\n",
    "        _result.append(result)\n",
    "        \n",
    "        print(f'Case {i+1} : input  -> {case} ')\n",
    "        print(f'\\t output -> {output}{\" \"*15}')\n",
    "        print(f'Result : {result}  Time : {process_time:.7f}\\n')\n",
    "    \n",
    "    _result = 'Pass' if 'Fail' not in _result else 'Fail'\n",
    "    print('-' * 50 + f'\\nResult : {_result}  Time : {_time:.7f}')"
   ]
  },
  {
   "cell_type": "code",
   "execution_count": 3,
   "metadata": {},
   "outputs": [
    {
     "name": "stdout",
     "output_type": "stream",
     "text": [
      "Case 1 : input  -> [10, 3] \n",
      "\t output -> 3               \n",
      "Result : Pass  Time : 0.0000027\n",
      "\n",
      "Case 2 : input  -> [7, -3] \n",
      "\t output -> -2               \n",
      "Result : Pass  Time : 0.0000022\n",
      "\n",
      "--------------------------------------------------\n",
      "Result : Pass  Time : 0.0000049\n"
     ]
    }
   ],
   "source": [
    "# 單行\n",
    "\n",
    "class Solution:\n",
    "    def divide(self, dividend: int, divisor: int) -> int:\n",
    "        return max(min(int(dividend/divisor),2147483647),-2147483648)\n",
    "    \n",
    "test(testcase, answer)"
   ]
  },
  {
   "cell_type": "code",
   "execution_count": 4,
   "metadata": {},
   "outputs": [
    {
     "name": "stdout",
     "output_type": "stream",
     "text": [
      "Case 1 : input  -> [10, 3] \n",
      "\t output -> 3               \n",
      "Result : Pass  Time : 0.0000039\n",
      "\n",
      "Case 2 : input  -> [7, -3] \n",
      "\t output -> -2               \n",
      "Result : Pass  Time : 0.0000028\n",
      "\n",
      "--------------------------------------------------\n",
      "Result : Pass  Time : 0.0000067\n"
     ]
    }
   ],
   "source": [
    "# 單if判斷\n",
    "\n",
    "class Solution:\n",
    "    def divide(self, dividend: int, divisor: int) -> int:\n",
    "        res = int(dividend/divisor)\n",
    "        return res if abs(res + 0.5) < 2**31 - 0.5 else int(abs(res)//res*(2**31-0.5)-0.5)\n",
    "    \n",
    "test(testcase, answer)"
   ]
  },
  {
   "cell_type": "code",
   "execution_count": 5,
   "metadata": {},
   "outputs": [
    {
     "name": "stdout",
     "output_type": "stream",
     "text": [
      "Case 1 : input  -> [10, 3] \n",
      "\t output -> 3               \n",
      "Result : Pass  Time : 0.0000018\n",
      "\n",
      "Case 2 : input  -> [7, -3] \n",
      "\t output -> -2               \n",
      "Result : Pass  Time : 0.0000015\n",
      "\n",
      "--------------------------------------------------\n",
      "Result : Pass  Time : 0.0000033\n"
     ]
    }
   ],
   "source": [
    "# 多if判斷\n",
    "\n",
    "class Solution:\n",
    "    def divide(self, dividend: int, divisor: int) -> int:\n",
    "        res = int(dividend/divisor)\n",
    "        \n",
    "        if res > 2147483647:\n",
    "            return 2147483647\n",
    "        elif res < -2147483648:\n",
    "            return -2147483648\n",
    "        else:\n",
    "            return res\n",
    "        \n",
    "test(testcase, answer)"
   ]
  }
 ],
 "metadata": {
  "kernelspec": {
   "display_name": "Python 3",
   "language": "python",
   "name": "python3"
  },
  "language_info": {
   "codemirror_mode": {
    "name": "ipython",
    "version": 3
   },
   "file_extension": ".py",
   "mimetype": "text/x-python",
   "name": "python",
   "nbconvert_exporter": "python",
   "pygments_lexer": "ipython3",
   "version": "3.8.3"
  }
 },
 "nbformat": 4,
 "nbformat_minor": 4
}
