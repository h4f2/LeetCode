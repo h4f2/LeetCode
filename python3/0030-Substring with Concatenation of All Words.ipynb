{
 "cells": [
  {
   "cell_type": "markdown",
   "metadata": {},
   "source": [
    "##### You are given a string s and an array of strings words of the same length. \n",
    "##### Return all starting indices of substring(s) in s that is a concatenation of each word in words exactly once, \n",
    "##### in any order, and without any intervening characters.\n",
    "##### You can return the answer in any order.\n",
    "\n",
    "</br>\n",
    "\n",
    "**Constraints:**  \n",
    "* 1 <= s.length <= 10$^4$\n",
    "* s consists of lower-case English letters.\n",
    "* 1 <= words.length <= 5000\n",
    "* 1 <= words[i].length <= 30\n",
    "* words[i] consists of lower-case English letters.\n",
    "\n",
    "\n",
    "**Example 1:**  \n",
    "```\n",
    "Input: s = \"barfoothefoobarman\", words = [\"foo\",\"bar\"]\n",
    "Output: [0,9]\n",
    "Explanation: Substrings starting at index 0 and 9 are \"barfoo\" and \"foobar\" respectively.\n",
    "The output order does not matter, returning [9,0] is fine too.\n",
    "```  \n",
    "\n",
    "**Example 2:**  \n",
    "```\n",
    "Input: s = \"wordgoodgoodgoodbestword\", words = [\"word\",\"good\",\"best\",\"word\"]\n",
    "Output: []\n",
    "```\n",
    "\n",
    "**Example 3:**  \n",
    "```\n",
    "Input: s = \"barfoofoobarthefoobarman\", words = [\"bar\",\"foo\",\"the\"]\n",
    "Output: [6,9,12]\n",
    "```"
   ]
  },
  {
   "cell_type": "code",
   "execution_count": 1,
   "metadata": {
    "jupyter": {
     "source_hidden": true
    },
    "tags": []
   },
   "outputs": [],
   "source": [
    "testcase = ([\"barfoothefoobarman\", [\"foo\", \"bar\"]],\n",
    "            [\"wordgoodgoodgoodbestword\", [\"word\", \"good\", \"best\", \"word\"]],\n",
    "            [\"barfoofoobarthefoobarman\", [\"bar\",\"foo\",\"the\"]])\n",
    "            \n",
    "\n",
    "answer = ([0,9],\n",
    "          [],\n",
    "          [6,9,12])"
   ]
  },
  {
   "cell_type": "code",
   "execution_count": 2,
   "metadata": {
    "jupyter": {
     "source_hidden": true
    },
    "tags": []
   },
   "outputs": [],
   "source": [
    "import time\n",
    "\n",
    "def test(testcase, answer):\n",
    "    solution = Solution()\n",
    "    _result = []\n",
    "    _time = 0\n",
    "\n",
    "    for i, case in enumerate(testcase):\n",
    "        start = time.perf_counter()\n",
    "        output = solution.findSubstring(*case)\n",
    "        process_time = time.perf_counter() - start\n",
    "        result = 'Pass' if output==answer[i] else 'Fail'\n",
    "\n",
    "        _time += process_time\n",
    "        _result.append(result)\n",
    "        \n",
    "        print(f'Case {i+1} : input  -> {case} ')\n",
    "        print(f'\\t output -> {output}{\" \"*15}')\n",
    "        print(f'Result : {result}  Time : {process_time:.7f}\\n')\n",
    "    \n",
    "    _result = 'Pass' if 'Fail' not in _result else 'Fail'\n",
    "    print('-' * 50 + f'\\nResult : {_result}  Time : {_time:.7f}')"
   ]
  },
  {
   "cell_type": "code",
   "execution_count": 3,
   "metadata": {},
   "outputs": [
    {
     "name": "stdout",
     "output_type": "stream",
     "text": [
      "Case 1 : input  -> ['barfoothefoobarman', ['foo', 'bar']] \n",
      "\t output -> [0, 9]               \n",
      "Result : Pass  Time : 0.0000594\n",
      "\n",
      "Case 2 : input  -> ['wordgoodgoodgoodbestword', ['word', 'good', 'best', 'word']] \n",
      "\t output -> []               \n",
      "Result : Pass  Time : 0.0002073\n",
      "\n",
      "Case 3 : input  -> ['barfoofoobarthefoobarman', ['bar', 'foo', 'the']] \n",
      "\t output -> [6, 9, 12]               \n",
      "Result : Pass  Time : 0.0001491\n",
      "\n",
      "--------------------------------------------------\n",
      "Result : Pass  Time : 0.0004158\n"
     ]
    }
   ],
   "source": [
    "# 單行\n",
    "import itertools\n",
    "\n",
    "class Solution:\n",
    "    def findSubstring(self, s: str, words: list) -> list:\n",
    "        return sorted(list(set(s.find(w,i) for i in range(len(s)) for w in [''.join(i) for i in set(itertools.permutations(words, len(words)))] if s.find(w,i) != -1)))\n",
    "\n",
    "test(testcase, answer)\n",
    "\n",
    "# 解構\n",
    "# class Solution:\n",
    "#     def findSubstring(self, s: str, words: list) -> list:\n",
    "#         wordsList = [''.join(i) for i in set(itertools.permutations(words, len(words)))]\n",
    "#         res = []\n",
    "#         for i in range(len(s)):\n",
    "#             for w in wordsList:\n",
    "#                 if s.find(w,i) != -1:\n",
    "#                     res.append(s.find(w,i))\n",
    "#         return sorted(list(set(res)))"
   ]
  },
  {
   "cell_type": "code",
   "execution_count": 4,
   "metadata": {},
   "outputs": [
    {
     "name": "stdout",
     "output_type": "stream",
     "text": [
      "Case 1 : input  -> ['barfoothefoobarman', ['foo', 'bar']] \n",
      "\t output -> [0, 9]               \n",
      "Result : Pass  Time : 0.0000410\n",
      "\n",
      "Case 2 : input  -> ['wordgoodgoodgoodbestword', ['word', 'good', 'best', 'word']] \n",
      "\t output -> []               \n",
      "Result : Pass  Time : 0.0000525\n",
      "\n",
      "Case 3 : input  -> ['barfoofoobarthefoobarman', ['bar', 'foo', 'the']] \n",
      "\t output -> [6, 9, 12]               \n",
      "Result : Pass  Time : 0.0000722\n",
      "\n",
      "--------------------------------------------------\n",
      "Result : Pass  Time : 0.0001657\n"
     ]
    }
   ],
   "source": [
    "class Solution:\n",
    "    def findSubstring(self, s: str, words: list) -> list:\n",
    "        l = len(words[0])\n",
    "        n = len(words)\n",
    "        res = []\n",
    "        _word = sorted(words)\n",
    "        for i in range(0, len(s) - l*(n-1)):\n",
    "            _s = [s[i+k*l:i+(k+1)*l] for k in range(n)]\n",
    "            if sorted(_s) == _word:\n",
    "                res.append(i)\n",
    "        return res\n",
    "\n",
    "test(testcase, answer)"
   ]
  }
 ],
 "metadata": {
  "kernelspec": {
   "display_name": "Python 3",
   "language": "python",
   "name": "python3"
  },
  "language_info": {
   "codemirror_mode": {
    "name": "ipython",
    "version": 3
   },
   "file_extension": ".py",
   "mimetype": "text/x-python",
   "name": "python",
   "nbconvert_exporter": "python",
   "pygments_lexer": "ipython3",
   "version": "3.8.3"
  }
 },
 "nbformat": 4,
 "nbformat_minor": 4
}
