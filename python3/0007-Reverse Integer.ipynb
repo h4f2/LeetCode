{
 "cells": [
  {
   "cell_type": "markdown",
   "metadata": {
    "tags": []
   },
   "source": [
    "##### Given a signed 32-bit integer x, return x with its digits reversed. \n",
    "##### If reversing x causes the value to go outside the signed 32-bit integer range [$-2^{31}, 2^{31} - 1$], then return 0.\n",
    "##### * **Assume the environment does not allow you to store 64-bit integers (signed or unsigned).**  \n",
    "\n",
    "<br>  \n",
    "\n",
    "**Constraints:**  \n",
    "* $-2^{31} \\leq Output \\leq 2^{31} - 1$\n",
    "   \n",
    "\n",
    "**Example 1:**\n",
    "```\n",
    "Input: x = 123\n",
    "Output: 321\n",
    "```  \n",
    "\n",
    "**Example 2:**  \n",
    "```\n",
    "Input: x = -123\n",
    "Output: -321\n",
    "```\n",
    "\n",
    "**Example 3:**  \n",
    "```\n",
    "Input: x = 120\n",
    "Output: 21\n",
    "```"
   ]
  },
  {
   "cell_type": "code",
   "execution_count": 1,
   "metadata": {},
   "outputs": [],
   "source": [
    "testcase = (123,\n",
    "            -123,\n",
    "            120)\n",
    "\n",
    "answer = (321,\n",
    "          -321,\n",
    "          21)"
   ]
  },
  {
   "cell_type": "code",
   "execution_count": 2,
   "metadata": {},
   "outputs": [],
   "source": [
    "import time\n",
    "\n",
    "def test(testcase, answer):\n",
    "    solution = Solution()\n",
    "    _result = []\n",
    "    _time = 0\n",
    "\n",
    "    for i, case in enumerate(testcase):\n",
    "        start = time.perf_counter()\n",
    "        output = solution.reverse(case)\n",
    "        process_time = time.perf_counter() - start\n",
    "        result = 'Pass' if output == answer[i] else 'Fail'\n",
    "\n",
    "        _time += process_time\n",
    "        _result.append(result)\n",
    "        \n",
    "        print(f'Case {i+1} : input  -> {case} ')\n",
    "        print(f'\\t output -> {output}{\" \"*15}')\n",
    "        print(f'Result : {result}  Time : {process_time:.7f}\\n')\n",
    "    \n",
    "    _result = 'Pass' if 'Fail' not in _result else 'Fail'\n",
    "    print('-' * 50 + f'\\nResult : {_result}  Time : {_time:.7f}')"
   ]
  },
  {
   "cell_type": "code",
   "execution_count": 3,
   "metadata": {},
   "outputs": [
    {
     "name": "stdout",
     "output_type": "stream",
     "text": [
      "Case 1 : input  -> 123 \n",
      "\t output -> 321               \n",
      "Result : Pass  Time : 0.0000039\n",
      "\n",
      "Case 2 : input  -> -123 \n",
      "\t output -> -321               \n",
      "Result : Pass  Time : 0.0000037\n",
      "\n",
      "Case 3 : input  -> 120 \n",
      "\t output -> 21               \n",
      "Result : Pass  Time : 0.0000022\n",
      "\n",
      "--------------------------------------------------\n",
      "Result : Pass  Time : 0.0000098\n"
     ]
    }
   ],
   "source": [
    "class Solution:\n",
    "    def reverse(self, x: int) -> int:\n",
    "        res = int(str(abs(x))[::-1]) * (-1 if x < 0 else 1) \n",
    "        return res if res <= 2 ** 31 - 1 and res >= -(2 ** 31) else 0\n",
    "\n",
    "test(testcase,answer)"
   ]
  },
  {
   "cell_type": "code",
   "execution_count": 4,
   "metadata": {},
   "outputs": [
    {
     "name": "stdout",
     "output_type": "stream",
     "text": [
      "Case 1 : input  -> 123 \n",
      "\t output -> 321               \n",
      "Result : Pass  Time : 0.0000041\n",
      "\n",
      "Case 2 : input  -> -123 \n",
      "\t output -> -321               \n",
      "Result : Pass  Time : 0.0000034\n",
      "\n",
      "Case 3 : input  -> 120 \n",
      "\t output -> 21               \n",
      "Result : Pass  Time : 0.0000018\n",
      "\n",
      "--------------------------------------------------\n",
      "Result : Pass  Time : 0.0000093\n"
     ]
    }
   ],
   "source": [
    "# 參考 \n",
    "class Solution:\n",
    "    def reverse(self, x: int) -> int:  \n",
    "        res = int(str(abs(x))[::-1])\n",
    "        negative = (x > 0) - (x < 0)\n",
    "        \n",
    "        if res - negative> 2147483647:\n",
    "            return 0  \n",
    "        else:  \n",
    "            return negative * res    \n",
    "        \n",
    "test(testcase,answer)"
   ]
  }
 ],
 "metadata": {
  "kernelspec": {
   "display_name": "Python 3",
   "language": "python",
   "name": "python3"
  },
  "language_info": {
   "codemirror_mode": {
    "name": "ipython",
    "version": 3
   },
   "file_extension": ".py",
   "mimetype": "text/x-python",
   "name": "python",
   "nbconvert_exporter": "python",
   "pygments_lexer": "ipython3",
   "version": "3.8.3"
  }
 },
 "nbformat": 4,
 "nbformat_minor": 4
}
