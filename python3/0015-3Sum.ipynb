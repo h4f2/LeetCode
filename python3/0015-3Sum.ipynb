{
 "cells": [
  {
   "cell_type": "markdown",
   "metadata": {},
   "source": [
    "##### Given an integer array nums, return all the triplets [nums[i], nums[j], nums[k]] such that i != j, i != k, and j != k, and nums[i] + nums[j] + nums[k] == 0.\n",
    "\n",
    "##### Notice that the solution set must not contain duplicate triplets.\n",
    "\n",
    "<br>  \n",
    "\n",
    "**Constraints:**  \n",
    "* 0 <= nums.length <= 3000\n",
    "* $-10^5$ <= nums[i] <= $10^5$\n",
    "\n",
    "**Example 1:**  \n",
    "```\n",
    "Input: nums = [-1,0,1,2,-1,-4]\n",
    "Output: [[-1,-1,2],[-1,0,1]]\n",
    "```  \n",
    "\n",
    "**Example 2:**  \n",
    "```\n",
    "Input: nums = []\n",
    "Output: []\n",
    "```\n",
    "\n",
    "**Example 3:**  \n",
    "```\n",
    "Input: nums = [0]\n",
    "Output: []\n",
    "```"
   ]
  },
  {
   "cell_type": "code",
   "execution_count": 1,
   "metadata": {},
   "outputs": [],
   "source": [
    "testcase = ([-1,0,1,2,-1,-4],\n",
    "            [],\n",
    "            [0])\n",
    "\n",
    "answer = ([[-1,-1,2],[-1,0,1]],\n",
    "          [],\n",
    "          [])"
   ]
  },
  {
   "cell_type": "code",
   "execution_count": 2,
   "metadata": {},
   "outputs": [],
   "source": [
    "import time\n",
    "\n",
    "def test(testcase, answer):\n",
    "    solution = Solution()\n",
    "    _result = []\n",
    "    _time = 0\n",
    "\n",
    "    for i, case in enumerate(testcase):\n",
    "        start = time.perf_counter()\n",
    "        output = solution.threeSum(case)\n",
    "        process_time = time.perf_counter() - start\n",
    "        result = 'Pass' if all(o in answer[i] for o in output) else 'Fail'\n",
    "\n",
    "        _time += process_time\n",
    "        _result.append(result)\n",
    "        \n",
    "        print(f'Case {i+1} : input  -> {case} ')\n",
    "        print(f'\\t output -> {output}{\" \"*15}')\n",
    "        print(f'Result : {result}  Time : {process_time:.7f}\\n')\n",
    "    \n",
    "    _result = 'Pass' if 'Fail' not in _result else 'Fail'\n",
    "    print('-' * 50 + f'\\nResult : {_result}  Time : {_time:.7f}')"
   ]
  },
  {
   "cell_type": "code",
   "execution_count": 3,
   "metadata": {},
   "outputs": [
    {
     "name": "stdout",
     "output_type": "stream",
     "text": [
      "Case 1 : input  -> [-4, -1, -1, 0, 1, 2] \n",
      "\t output -> [[-1, -1, 2], [-1, 0, 1]]               \n",
      "Result : Pass  Time : 0.0000415\n",
      "\n",
      "Case 2 : input  -> [] \n",
      "\t output -> []               \n",
      "Result : Pass  Time : 0.0000027\n",
      "\n",
      "Case 3 : input  -> [0] \n",
      "\t output -> []               \n",
      "Result : Pass  Time : 0.0000011\n",
      "\n",
      "--------------------------------------------------\n",
      "Result : Pass  Time : 0.0000453\n"
     ]
    }
   ],
   "source": [
    "# O(N*N*N) timeout\n",
    "\n",
    "class Solution:\n",
    "    def threeSum(self, nums: list) -> list:\n",
    "        res = []\n",
    "        nums.sort()\n",
    "        L = len(nums)\n",
    "        \n",
    "        if L >= 3:\n",
    "            for i in range(L):\n",
    "                for j in range(i + 1, L):\n",
    "                    for k in range(j + 1, L):\n",
    "                        if nums[i] + nums[j] + nums[k] == 0:\n",
    "                            if [nums[i], nums[j], nums[k]] not in res:\n",
    "                                res += [[nums[i], nums[j], nums[k]]]\n",
    "                            break\n",
    "        return res\n",
    "\n",
    "test(testcase, answer)"
   ]
  },
  {
   "cell_type": "code",
   "execution_count": null,
   "metadata": {},
   "outputs": [],
   "source": [
    "# O(N*N*N) 優化 timeout\n",
    "\n",
    "class Solution:\n",
    "    def threeSum(self, nums: list) -> list:\n",
    "        res = []\n",
    "        nums.sort()\n",
    "        \n",
    "        for i, n in enumerate(nums):\n",
    "            for j in range(i+1, len(nums) - 1):\n",
    "                if -(n + nums[j]) in nums[j+1:]:\n",
    "                    if [n, nums[j], -(n + nums[j])] not in res:\n",
    "                        res += [[n, nums[j], -(n + nums[j])]]\n",
    "                    \n",
    "        return res"
   ]
  },
  {
   "cell_type": "code",
   "execution_count": 4,
   "metadata": {},
   "outputs": [
    {
     "name": "stdout",
     "output_type": "stream",
     "text": [
      "Case 1 : input  -> [-4, -1, -1, 0, 1, 2] \n",
      "\t output -> [[-1, -1, 2], [-1, 0, 1]]               \n",
      "Result : Pass  Time : 0.0000141\n",
      "\n",
      "Case 2 : input  -> [] \n",
      "\t output -> []               \n",
      "Result : Pass  Time : 0.0000029\n",
      "\n",
      "Case 3 : input  -> [0] \n",
      "\t output -> []               \n",
      "Result : Pass  Time : 0.0000046\n",
      "\n",
      "--------------------------------------------------\n",
      "Result : Pass  Time : 0.0000216\n"
     ]
    }
   ],
   "source": [
    "# 左右夾擠, 更新第一個數字後再更新右邊界\n",
    "\n",
    "class Solution:\n",
    "    def threeSum(self, nums: list) -> list:\n",
    "        res = []\n",
    "        nums.sort()\n",
    "        \n",
    "        for i, n in enumerate(nums):\n",
    "            right = len(nums) - 1\n",
    "            \n",
    "            for left in range(i+1, right):\n",
    "                while left < right:\n",
    "                    \n",
    "                    if nums[left] + nums[right] == -n:\n",
    "                        if [n, nums[left], nums[right]] not in res:\n",
    "                            res += [[n, nums[left], nums[right]]]\n",
    "            \n",
    "                    if nums[left] + nums[right] < -n:\n",
    "                        break\n",
    "                    \n",
    "                    right -= 1\n",
    "                    \n",
    "        return res\n",
    "    \n",
    "test(testcase, answer)"
   ]
  },
  {
   "cell_type": "code",
   "execution_count": 5,
   "metadata": {},
   "outputs": [
    {
     "name": "stdout",
     "output_type": "stream",
     "text": [
      "Case 1 : input  -> [-4, -1, -1, 0, 1, 2] \n",
      "\t output -> [[-1, 0, 1], [-1, -1, 2]]               \n",
      "Result : Pass  Time : 0.0000665\n",
      "\n",
      "Case 2 : input  -> [] \n",
      "\t output -> []               \n",
      "Result : Pass  Time : 0.0000017\n",
      "\n",
      "Case 3 : input  -> [0] \n",
      "\t output -> []               \n",
      "Result : Pass  Time : 0.0000021\n",
      "\n",
      "--------------------------------------------------\n",
      "Result : Pass  Time : 0.0000703\n"
     ]
    }
   ],
   "source": [
    "# 超快,參考\n",
    "\n",
    "from collections import Counter\n",
    "from bisect import bisect_left\n",
    "\n",
    "class Solution:\n",
    "    def threeSum(self, nums: list) -> list:\n",
    "        if len(nums) < 3:\n",
    "            return []\n",
    "        \n",
    "        nums.sort()\n",
    "        if nums[0] > 0 or nums[-1] < 0:\n",
    "            return []\n",
    "        \n",
    "        ans = []\n",
    "        C = Counter(nums)\n",
    "        nums = list(C.keys())\n",
    "    \n",
    "        for i in range(len(nums)-1):\n",
    "            if nums[i] > 0: break\n",
    "            target = -nums[i]\n",
    "            \n",
    "            l = bisect_left(nums, target - nums[-1], i+1)\n",
    "            r = bisect_left(nums, target/2, l)\n",
    "            \n",
    "            for num in nums[l:r]:\n",
    "                if target-num in C:\n",
    "                    ans.append([nums[i], num, target-num])\n",
    "            \n",
    "        for key, val in C.items():\n",
    "            if val > 1:\n",
    "                if key == 0 and val > 2:\n",
    "                    ans.append([0, 0, 0])\n",
    "                elif key != 0 and -key*2 in C:\n",
    "                    ans.append([key, key, -key*2])\n",
    "            \n",
    "        return ans\n",
    "    \n",
    "test(testcase, answer)"
   ]
  }
 ],
 "metadata": {
  "kernelspec": {
   "display_name": "Python 3",
   "language": "python",
   "name": "python3"
  },
  "language_info": {
   "codemirror_mode": {
    "name": "ipython",
    "version": 3
   },
   "file_extension": ".py",
   "mimetype": "text/x-python",
   "name": "python",
   "nbconvert_exporter": "python",
   "pygments_lexer": "ipython3",
   "version": "3.8.3"
  }
 },
 "nbformat": 4,
 "nbformat_minor": 4
}
