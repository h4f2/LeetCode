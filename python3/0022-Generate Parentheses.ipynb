{
 "cells": [
  {
   "cell_type": "markdown",
   "metadata": {},
   "source": [
    "##### Given n pairs of parentheses, write a function to generate all combinations of well-formed parentheses.  \n",
    "</br>\n",
    "\n",
    "**Constraints:**  \n",
    "* 1 <= n <= 8\n",
    "\n",
    "**Example 1:**  \n",
    "```\n",
    "Input: n = 3\n",
    "Output: [\"((()))\",\"(()())\",\"(())()\",\"()(())\",\"()()()\"]\n",
    "```  \n",
    "\n",
    "**Example 2:**  \n",
    "```\n",
    "Input: n = 1\n",
    "Output: [\"()\"]\n",
    "```"
   ]
  },
  {
   "cell_type": "code",
   "execution_count": 1,
   "metadata": {
    "jupyter": {
     "source_hidden": true
    },
    "tags": []
   },
   "outputs": [],
   "source": [
    "testcase = (3,\n",
    "            1)\n",
    "\n",
    "answer = ([\"((()))\",\"(()())\",\"(())()\",\"()(())\",\"()()()\"],\n",
    "          [\"()\"])"
   ]
  },
  {
   "cell_type": "code",
   "execution_count": 2,
   "metadata": {
    "jupyter": {
     "source_hidden": true
    },
    "tags": []
   },
   "outputs": [],
   "source": [
    "import time\n",
    "\n",
    "def test(testcase, answer):\n",
    "    solution = Solution()\n",
    "    _result = []\n",
    "    _time = 0\n",
    "\n",
    "    for i, case in enumerate(testcase):\n",
    "        start = time.perf_counter()\n",
    "        output = solution.generateParenthesis(case)\n",
    "        process_time = time.perf_counter() - start\n",
    "        result = 'Pass' if set(output)==set(answer[i]) and len(output)==len(answer[i]) else 'Fail'\n",
    "\n",
    "        _time += process_time\n",
    "        _result.append(result)\n",
    "        \n",
    "        print(f'Case {i+1} : input  -> {case} ')\n",
    "        print(f'\\t output -> {output}{\" \"*15}')\n",
    "        print(f'Result : {result}  Time : {process_time:.7f}\\n')\n",
    "    \n",
    "    _result = 'Pass' if 'Fail' not in _result else 'Fail'\n",
    "    print('-' * 50 + f'\\nResult : {_result}  Time : {_time:.7f}')"
   ]
  },
  {
   "cell_type": "code",
   "execution_count": 3,
   "metadata": {},
   "outputs": [
    {
     "name": "stdout",
     "output_type": "stream",
     "text": [
      "Case 1 : input  -> 3 \n",
      "\t output -> ['((()))', '(()())', '(())()', '()(())', '()()()']               \n",
      "Result : Pass  Time : 0.0003616\n",
      "\n",
      "Case 2 : input  -> 1 \n",
      "\t output -> ['()']               \n",
      "Result : Pass  Time : 0.0000111\n",
      "\n",
      "--------------------------------------------------\n",
      "Result : Pass  Time : 0.0003727\n"
     ]
    }
   ],
   "source": [
    "#計算 開合的數目\n",
    "\n",
    "class Solution:\n",
    "    def generateParenthesis(self, n: int) -> list:\n",
    "        res = ['(']\n",
    "        \n",
    "        for i in range(1, n*2):\n",
    "            temp = []\n",
    "            \n",
    "            for s in res:\n",
    "                n_open = s.count('(')\n",
    "                \n",
    "                if n_open == i/2:\n",
    "                    temp.append(s+'(')\n",
    "                elif n_open == n:\n",
    "                    temp.append(s+')')\n",
    "                else:\n",
    "                    temp.extend([s+'(', s+')'])\n",
    "            \n",
    "            res = temp\n",
    "        \n",
    "        return res\n",
    "    \n",
    "test(testcase, answer)"
   ]
  },
  {
   "cell_type": "code",
   "execution_count": 4,
   "metadata": {},
   "outputs": [
    {
     "name": "stdout",
     "output_type": "stream",
     "text": [
      "Case 1 : input  -> 3 \n",
      "\t output -> ['((()))', '(()())', '(())()', '()(())', '()()()']               \n",
      "Result : Pass  Time : 0.0000356\n",
      "\n",
      "Case 2 : input  -> 1 \n",
      "\t output -> ['()']               \n",
      "Result : Pass  Time : 0.0000085\n",
      "\n",
      "--------------------------------------------------\n",
      "Result : Pass  Time : 0.0000441\n"
     ]
    }
   ],
   "source": [
    "#遞迴 參考\n",
    "\n",
    "class Solution:\n",
    "    def generateParenthesis(self, n: int) -> list:\n",
    "        stack = []\n",
    "        res = []\n",
    "        \n",
    "        def backtrack(openN, closeN):\n",
    "            \n",
    "            if (openN == closeN == n):\n",
    "                res.append(\"\".join(stack))\n",
    "                return\n",
    "            \n",
    "            if (openN < n):\n",
    "                stack.append(\"(\")\n",
    "                backtrack(openN+1, closeN)\n",
    "                stack.pop()\n",
    "                \n",
    "            if (closeN < openN):\n",
    "                stack.append(\")\")\n",
    "                backtrack(openN, closeN+1)\n",
    "                stack.pop()\n",
    "\n",
    "                \n",
    "        backtrack(0,0)\n",
    "        return res\n",
    "test(testcase, answer)"
   ]
  }
 ],
 "metadata": {
  "kernelspec": {
   "display_name": "Python 3",
   "language": "python",
   "name": "python3"
  },
  "language_info": {
   "codemirror_mode": {
    "name": "ipython",
    "version": 3
   },
   "file_extension": ".py",
   "mimetype": "text/x-python",
   "name": "python",
   "nbconvert_exporter": "python",
   "pygments_lexer": "ipython3",
   "version": "3.8.3"
  }
 },
 "nbformat": 4,
 "nbformat_minor": 4
}
