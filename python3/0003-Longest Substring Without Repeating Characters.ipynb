{
 "cells": [
  {
   "cell_type": "markdown",
   "metadata": {},
   "source": [
    "##### Given a string s, find the length of the longest substring without repeating characters.  \n",
    "<br>\n",
    "\n",
    "**Constraints:**\n",
    "* 0 <= s.length <= 5 * 104\n",
    "* s consists of English letters, digits, symbols and spaces.\n",
    "\n",
    "**Example 1:**  \n",
    "`Input: s = \"abcabcbb\"`  \n",
    "`Output: 3`  \n",
    "`Explanation: The answer is \"abc\", with the length of 3.`\n",
    "\n",
    "**Example 2:**  \n",
    "`Input: s = \"bbbbb\"`    \n",
    "`Output: 1`  \n",
    "`Explanation: The answer is \"b\", with the length of 1.`\n",
    "    \n",
    "**Example 3:**  \n",
    "    `Input: nums = [3,3], target = 6`  \n",
    "    `Output: [0,1]`"
   ]
  },
  {
   "cell_type": "code",
   "execution_count": 1,
   "metadata": {},
   "outputs": [],
   "source": [
    "testcase = (\"abcabcbb\",\n",
    "            \"bbbbb\",\n",
    "            \"pwwkew\")\n",
    "\n",
    "answer = (3,\n",
    "          1,\n",
    "          3)"
   ]
  },
  {
   "cell_type": "code",
   "execution_count": 2,
   "metadata": {},
   "outputs": [],
   "source": [
    "import time\n",
    "\n",
    "def test(testcase, answer):\n",
    "    solution = Solution()\n",
    "    _result = []\n",
    "    _time = 0\n",
    "\n",
    "    for i, case in enumerate(testcase):\n",
    "        start = time.perf_counter()\n",
    "        output = solution.lengthOfLongestSubstring(case)\n",
    "        process_time = time.perf_counter() - start\n",
    "        result = 'Pass' if output==answer[i] else 'Fail'\n",
    "\n",
    "        _time += process_time\n",
    "        _result.append(result)\n",
    "        \n",
    "        print(f'Case {i+1} : input  -> {case} ')\n",
    "        print(f'\\t output -> {output}{\" \"*15}')\n",
    "        print(f'Result : {result}  Time : {process_time:.7f}\\n')\n",
    "    \n",
    "    _result = 'Pass' if 'Fail' not in _result else 'Fail'\n",
    "    print('-' * 50 + f'\\nResult : {_result}  Time : {_time:.7f}')"
   ]
  },
  {
   "cell_type": "code",
   "execution_count": 3,
   "metadata": {},
   "outputs": [
    {
     "name": "stdout",
     "output_type": "stream",
     "text": [
      "Case 1 : input  -> abcabcbb \n",
      "\t output -> 3               \n",
      "Result : Pass  Time : 0.0000178\n",
      "\n",
      "Case 2 : input  -> bbbbb \n",
      "\t output -> 1               \n",
      "Result : Pass  Time : 0.0000119\n",
      "\n",
      "Case 3 : input  -> pwwkew \n",
      "\t output -> 3               \n",
      "Result : Pass  Time : 0.0000101\n",
      "\n",
      "--------------------------------------------------\n",
      "Result : Pass  Time : 0.0000398\n"
     ]
    }
   ],
   "source": [
    "class Solution:\n",
    "    def lengthOfLongestSubstring(self, s: str) -> int:\n",
    "        maxlen, sub_s = 0, ''\n",
    "        \n",
    "        for w in s:\n",
    "            sub_s = (sub_s if w not in sub_s else sub_s[sub_s.index(w) + 1:]) + w\n",
    "            maxlen = max(len(sub_s), maxlen)\n",
    "        \n",
    "        return maxlen\n",
    "\n",
    "test(testcase,answer)"
   ]
  },
  {
   "cell_type": "code",
   "execution_count": 4,
   "metadata": {},
   "outputs": [
    {
     "name": "stdout",
     "output_type": "stream",
     "text": [
      "Case 1 : input  -> abcabcbb \n",
      "\t output -> 3               \n",
      "Result : Pass  Time : 0.0000096\n",
      "\n",
      "Case 2 : input  -> bbbbb \n",
      "\t output -> 1               \n",
      "Result : Pass  Time : 0.0000096\n",
      "\n",
      "Case 3 : input  -> pwwkew \n",
      "\t output -> 3               \n",
      "Result : Pass  Time : 0.0000060\n",
      "\n",
      "--------------------------------------------------\n",
      "Result : Pass  Time : 0.0000252\n"
     ]
    }
   ],
   "source": [
    "# 參考\n",
    "\n",
    "class Solution:\n",
    "    def lengthOfLongestSubstring(self, s: str) -> int:\n",
    "        leftside, maxlen, ch_dir = 0, 0, {}\n",
    "        \n",
    "        for i, ch in enumerate(s):\n",
    "            leftside = ch_dir[ch] if (ch in ch_dir) and (leftside < ch_dir[ch]) else leftside\n",
    "            maxlen = max(i - leftside + 1, maxlen)\n",
    "            ch_dir[ch] = i + 1\n",
    "        \n",
    "        return maxlen\n",
    "    \n",
    "test(testcase,answer)"
   ]
  }
 ],
 "metadata": {
  "kernelspec": {
   "display_name": "Python 3",
   "language": "python",
   "name": "python3"
  },
  "language_info": {
   "codemirror_mode": {
    "name": "ipython",
    "version": 3
   },
   "file_extension": ".py",
   "mimetype": "text/x-python",
   "name": "python",
   "nbconvert_exporter": "python",
   "pygments_lexer": "ipython3",
   "version": "3.8.3"
  }
 },
 "nbformat": 4,
 "nbformat_minor": 4
}
