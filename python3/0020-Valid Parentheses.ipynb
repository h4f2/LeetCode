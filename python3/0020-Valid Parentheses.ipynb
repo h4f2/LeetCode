{
 "cells": [
  {
   "cell_type": "markdown",
   "metadata": {},
   "source": [
    "##### Given a string s containing just the characters '(', ')', '{', '}', '[' and ']', determine if the input string is valid.\n",
    "\n",
    "##### An input string is valid if:\n",
    "\n",
    "1. Open brackets must be closed by the same type of brackets.\n",
    "2. Open brackets must be closed in the correct order.\n",
    "\n",
    "\n",
    "<br>  \n",
    "\n",
    "**Constraints:**  \n",
    "* 1 <= s.length <= 10$^4$\n",
    "* s consists of parentheses only '()[]{}'.\n",
    "\n",
    "**Example 1:**  \n",
    "```\n",
    "Input: s = \"()\"\n",
    "Output: true\n",
    "```  \n",
    "\n",
    "**Example 2:**  \n",
    "```\n",
    "Input: s = \"()[]{}\"\n",
    "Output: true\n",
    "```\n",
    "\n",
    "**Example 3:**  \n",
    "```\n",
    "Input: s = \"(]\"\n",
    "Output: false\n",
    "```"
   ]
  },
  {
   "cell_type": "code",
   "execution_count": 1,
   "metadata": {
    "jupyter": {
     "source_hidden": true
    },
    "tags": []
   },
   "outputs": [],
   "source": [
    "testcase = (\"()\",\n",
    "            \"()[]{}\",\n",
    "            \"(]\")\n",
    "\n",
    "answer = (True,\n",
    "          True,\n",
    "          False)"
   ]
  },
  {
   "cell_type": "code",
   "execution_count": 2,
   "metadata": {
    "jupyter": {
     "source_hidden": true
    },
    "tags": []
   },
   "outputs": [],
   "source": [
    "import time\n",
    "\n",
    "def test(testcase, answer):\n",
    "    solution = Solution()\n",
    "    _result = []\n",
    "    _time = 0\n",
    "\n",
    "    for i, case in enumerate(testcase):\n",
    "        start = time.perf_counter()\n",
    "        output = solution.isValid(case)\n",
    "        process_time = time.perf_counter() - start\n",
    "        result = 'Pass' if  output == answer[i] else 'Fail'\n",
    "\n",
    "        _time += process_time\n",
    "        _result.append(result)\n",
    "        \n",
    "        print(f'Case {i+1} : input  -> {case} ')\n",
    "        print(f'\\t output -> {output}{\" \"*15}')\n",
    "        print(f'Result : {result}  Time : {process_time:.7f}\\n')\n",
    "    \n",
    "    _result = 'Pass' if 'Fail' not in _result else 'Fail'\n",
    "    print('-' * 50 + f'\\nResult : {_result}  Time : {_time:.7f}')"
   ]
  },
  {
   "cell_type": "code",
   "execution_count": 3,
   "metadata": {},
   "outputs": [
    {
     "name": "stdout",
     "output_type": "stream",
     "text": [
      "Case 1 : input  -> () \n",
      "\t output -> True               \n",
      "Result : Pass  Time : 0.0000074\n",
      "\n",
      "Case 2 : input  -> ()[]{} \n",
      "\t output -> True               \n",
      "Result : Pass  Time : 0.0000081\n",
      "\n",
      "Case 3 : input  -> (] \n",
      "\t output -> False               \n",
      "Result : Pass  Time : 0.0000044\n",
      "\n",
      "--------------------------------------------------\n",
      "Result : Pass  Time : 0.0000199\n"
     ]
    }
   ],
   "source": [
    "# 暴力拆解\n",
    "\n",
    "class Solution:\n",
    "    def isValid(self, s: str) -> bool:\n",
    "        prev = ''\n",
    "        while s != prev:\n",
    "            prev = s\n",
    "            for i in ['()','[]','{}']:\n",
    "                s = ''.join(s.split(i))\n",
    "        return s == ''\n",
    "    \n",
    "test(testcase, answer)"
   ]
  },
  {
   "cell_type": "code",
   "execution_count": 4,
   "metadata": {},
   "outputs": [
    {
     "name": "stdout",
     "output_type": "stream",
     "text": [
      "Case 1 : input  -> () \n",
      "\t output -> True               \n",
      "Result : Pass  Time : 0.0000080\n",
      "\n",
      "Case 2 : input  -> ()[]{} \n",
      "\t output -> True               \n",
      "Result : Pass  Time : 0.0000089\n",
      "\n",
      "Case 3 : input  -> (] \n",
      "\t output -> False               \n",
      "Result : Pass  Time : 0.0000030\n",
      "\n",
      "--------------------------------------------------\n",
      "Result : Pass  Time : 0.0000199\n"
     ]
    }
   ],
   "source": [
    "# stack對字典\n",
    "\n",
    "class Solution:\n",
    "    def isValid(self, s: str) -> bool:\n",
    "        pair = {')':'(', ']':'[', '}':'{'}\n",
    "        stack = []\n",
    "        for char in s:\n",
    "            if char in pair.values():\n",
    "                stack.append(char)\n",
    "            else : \n",
    "                if len(stack) == 0 or stack.pop() != pair[char]:\n",
    "                    return False\n",
    "        return stack == []\n",
    "    \n",
    "test(testcase, answer)\n"
   ]
  }
 ],
 "metadata": {
  "kernelspec": {
   "display_name": "Python 3",
   "language": "python",
   "name": "python3"
  },
  "language_info": {
   "codemirror_mode": {
    "name": "ipython",
    "version": 3
   },
   "file_extension": ".py",
   "mimetype": "text/x-python",
   "name": "python",
   "nbconvert_exporter": "python",
   "pygments_lexer": "ipython3",
   "version": "3.8.3"
  }
 },
 "nbformat": 4,
 "nbformat_minor": 4
}
