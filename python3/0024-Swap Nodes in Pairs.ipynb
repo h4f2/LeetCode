{
 "cells": [
  {
   "cell_type": "markdown",
   "metadata": {},
   "source": [
    "##### Given a linked list, swap every two adjacent nodes and return its head.\n",
    "##### You must solve the problem without modifying the values in the list's nodes (i.e., only nodes themselves may be changed.)\n",
    "\n",
    "<br>  \n",
    "\n",
    "**Constraints:**\n",
    "\n",
    "* The number of nodes in the list is in the range [0, 100].\n",
    "* 0 <= Node.val <= 100\n",
    "\n",
    "\n",
    "\n",
    "**Example 1:**  \n",
    "![](../_pictures/0024.jpg)\n",
    "```\n",
    "Input: head = [1,2,3,4]\n",
    "Output: [2,1,4,3]\n",
    "```  \n",
    "\n",
    "**Example 2:**  \n",
    "```\n",
    "Input: head = []\n",
    "Output: []\n",
    "```\n",
    "\n",
    "**Example 3:**  \n",
    "```\n",
    "Input: head = [1]\n",
    "Output: [1]\n",
    "```"
   ]
  },
  {
   "cell_type": "code",
   "execution_count": null,
   "metadata": {},
   "outputs": [],
   "source": [
    "# 取出 排序 放回\n",
    "\n",
    "# Definition for singly-linked list.\n",
    "class ListNode:\n",
    "    def __init__(self, val=0, next=None):\n",
    "        self.val = val\n",
    "        self.next = next\n",
    "        \n",
    "class Solution:\n",
    "    def swapPairs(self, head: Optional[ListNode]) -> Optional[ListNode]:\n",
    "\n",
    "        _list = []\n",
    "        \n",
    "        while head:\n",
    "            _list.append(head.val)\n",
    "            head = head.next\n",
    "        \n",
    "        for i in range(0,len(_list)-1,2):\n",
    "            _list[i:i+2] = _list[i:i+2][::-1]\n",
    "        \n",
    "        res = None\n",
    "        for i in _list[::-1]:\n",
    "            res = ListNode(i, res)\n",
    "        \n",
    "        return res"
   ]
  },
  {
   "cell_type": "code",
   "execution_count": null,
   "metadata": {},
   "outputs": [],
   "source": [
    "# 指標\n",
    "\n",
    "class Solution:\n",
    "    def swapPairs(self, head: Optional[ListNode]) -> Optional[ListNode]:\n",
    "        if not head or not head.next:\n",
    "            return head\n",
    "        \n",
    "        res = curr = ListNode(None)\n",
    "\n",
    "        while head:\n",
    "            _temp = ListNode(head.val)\n",
    "            head = head.next\n",
    "            \n",
    "            if head != None:\n",
    "                curr.next = ListNode(head.val)\n",
    "                head = head.next\n",
    "                curr = curr.next            \n",
    "            \n",
    "            curr.next = _temp\n",
    "            curr = curr.next \n",
    "            \n",
    "        return res.next"
   ]
  },
  {
   "cell_type": "code",
   "execution_count": null,
   "metadata": {},
   "outputs": [],
   "source": [
    "# 指標 遞迴 參考\n",
    "class Solution:\n",
    "    def swapPairs(self, head: Optional[ListNode]) -> Optional[ListNode]:\n",
    "        if not head or not head.next:\n",
    "            return head\n",
    "        \n",
    "        temp = head.next.next\n",
    "        \n",
    "        head, head.next = head.next, head\n",
    "        head.next.next = self.swapPairs(temp)\n",
    "        \n",
    "        return head"
   ]
  }
 ],
 "metadata": {
  "kernelspec": {
   "display_name": "Python 3",
   "language": "python",
   "name": "python3"
  },
  "language_info": {
   "codemirror_mode": {
    "name": "ipython",
    "version": 3
   },
   "file_extension": ".py",
   "mimetype": "text/x-python",
   "name": "python",
   "nbconvert_exporter": "python",
   "pygments_lexer": "ipython3",
   "version": "3.8.3"
  }
 },
 "nbformat": 4,
 "nbformat_minor": 4
}
