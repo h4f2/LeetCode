{
 "cells": [
  {
   "cell_type": "markdown",
   "metadata": {
    "tags": []
   },
   "source": [
    "##### The string \"PAYPALISHIRING\" is written in a zigzag pattern on a given number of rows like this:  \n",
    "##### (you may want to display this pattern in a fixed font for better legibility)  \n",
    "```\n",
    "P   A   H   N\n",
    "A P L S I I G\n",
    "Y   I   R\n",
    "```\n",
    "##### And then read line by line: \"PAHNAPLSIIGYIR\"\n",
    "\n",
    "<br>  \n",
    "\n",
    "**Constraints:**  \n",
    "* 1 <= s.length <= 1000\n",
    "* s consists of English letters (lower-case and upper-case), ',' and '.'.\n",
    "* 1 <= numRows <= 1000\n",
    "   \n",
    "\n",
    "**Example 1:**\n",
    "```\n",
    "Input: s = \"PAYPALISHIRING\", numRows = 3\n",
    "Output: \"PAHNAPLSIIGYIR\"\n",
    "```  \n",
    "\n",
    "**Example 2:**  \n",
    "```\n",
    "Input: s = \"PAYPALISHIRING\", numRows = 4\n",
    "Output: \"PINALSIGYAHRPI\"\n",
    "Explanation: P     I    N\n",
    "             A   L S  I G\n",
    "             Y A   H R\n",
    "             P     I\n",
    "```\n",
    "\n",
    "**Example 3:**  \n",
    "```\n",
    "Input: s = \"A\", numRows = 1\n",
    "Output: \"A\"\n",
    "```"
   ]
  },
  {
   "cell_type": "code",
   "execution_count": 1,
   "metadata": {},
   "outputs": [],
   "source": [
    "testcase = (['PAYPALISHIRING',3],\n",
    "            ['PAYPALISHIRING',4],\n",
    "            ['A',1])\n",
    "\n",
    "answer = ('PAHNAPLSIIGYIR',\n",
    "          'PINALSIGYAHRPI',\n",
    "          'A')"
   ]
  },
  {
   "cell_type": "code",
   "execution_count": 2,
   "metadata": {},
   "outputs": [],
   "source": [
    "import time\n",
    "\n",
    "def test(testcase, answer):\n",
    "    solution = Solution()\n",
    "    _result = []\n",
    "    _time = 0\n",
    "\n",
    "    for i, case in enumerate(testcase):\n",
    "        start = time.perf_counter()\n",
    "        output = solution.convert(*case)\n",
    "        process_time = time.perf_counter() - start\n",
    "        result = 'Pass' if output in answer[i] else 'Fail'\n",
    "\n",
    "        _time += process_time\n",
    "        _result.append(result)\n",
    "        \n",
    "        print(f'Case {i+1} : input  -> {case} ')\n",
    "        print(f'\\t output -> {output}{\" \"*15}')\n",
    "        print(f'Result : {result}  Time : {process_time:.7f}\\n')\n",
    "    \n",
    "    _result = 'Pass' if 'Fail' not in _result else 'Fail'\n",
    "    print('-' * 50 + f'\\nResult : {_result}  Time : {_time:.7f}')"
   ]
  },
  {
   "cell_type": "code",
   "execution_count": 3,
   "metadata": {},
   "outputs": [
    {
     "name": "stdout",
     "output_type": "stream",
     "text": [
      "Case 1 : input  -> ['PAYPALISHIRING', 3] \n",
      "\t output -> PAHNAPLSIIGYIR               \n",
      "Result : Pass  Time : 0.0000139\n",
      "\n",
      "Case 2 : input  -> ['PAYPALISHIRING', 4] \n",
      "\t output -> PINALSIGYAHRPI               \n",
      "Result : Pass  Time : 0.0000106\n",
      "\n",
      "Case 3 : input  -> ['A', 1] \n",
      "\t output -> A               \n",
      "Result : Pass  Time : 0.0000007\n",
      "\n",
      "--------------------------------------------------\n",
      "Result : Pass  Time : 0.0000252\n"
     ]
    }
   ],
   "source": [
    "# 分N群再補值\n",
    "class Solution:\n",
    "    def convert(self, s: str, numRows: int) -> str:\n",
    "        if len(s) <= numRows or numRows == 1:\n",
    "            return s\n",
    "        \n",
    "        sGroup = []\n",
    "        groups = numRows - 1\n",
    "                \n",
    "        for i in range(numRows):\n",
    "            sGroup.append(s[i::groups*2])\n",
    "        \n",
    "        for i in range(1,groups):\n",
    "            temp_s = ''\n",
    "            for j in range(len(sGroup[groups-i])):\n",
    "                temp_s += sGroup[groups-i][j] + (s[groups+i::groups*2][j] if j < len(s[groups+i::groups*2]) else '')\n",
    "            sGroup[groups-i] = temp_s\n",
    "        \n",
    "        return ''.join(sGroup)\n",
    "        \n",
    "test(testcase,answer)"
   ]
  },
  {
   "cell_type": "code",
   "execution_count": 4,
   "metadata": {},
   "outputs": [
    {
     "name": "stdout",
     "output_type": "stream",
     "text": [
      "Case 1 : input  -> ['PAYPALISHIRING', 3] \n",
      "\t output -> PAHNAPLSIIGYIR               \n",
      "Result : Pass  Time : 0.0000105\n",
      "\n",
      "Case 2 : input  -> ['PAYPALISHIRING', 4] \n",
      "\t output -> PINALSIGYAHRPI               \n",
      "Result : Pass  Time : 0.0000074\n",
      "\n",
      "Case 3 : input  -> ['A', 1] \n",
      "\t output -> A               \n",
      "Result : Pass  Time : 0.0000049\n",
      "\n",
      "--------------------------------------------------\n",
      "Result : Pass  Time : 0.0000228\n"
     ]
    }
   ],
   "source": [
    "# 上下滑動\n",
    "class Solution:\n",
    "    def convert(self, s: str, numRows: int) -> str:\n",
    "        idx = 0\n",
    "        go = 1\n",
    "        res = [''] * numRows\n",
    "        for i in range(len(s)):\n",
    "            res[idx] += s[i]\n",
    "            if numRows > 1:\n",
    "                idx += go\n",
    "                if idx == 0 or idx == numRows -1:\n",
    "                    go *= -1\n",
    "        return ''.join(res)\n",
    "    \n",
    "test(testcase,answer)"
   ]
  },
  {
   "cell_type": "code",
   "execution_count": 5,
   "metadata": {},
   "outputs": [
    {
     "name": "stdout",
     "output_type": "stream",
     "text": [
      "Case 1 : input  -> ['PAYPALISHIRING', 3] \n",
      "\t output -> PAHNAPLSIIGYIR               \n",
      "Result : Pass  Time : 0.0000138\n",
      "\n",
      "Case 2 : input  -> ['PAYPALISHIRING', 4] \n",
      "\t output -> PINALSIGYAHRPI               \n",
      "Result : Pass  Time : 0.0000129\n",
      "\n",
      "Case 3 : input  -> ['A', 1] \n",
      "\t output -> A               \n",
      "Result : Pass  Time : 0.0000007\n",
      "\n",
      "--------------------------------------------------\n",
      "Result : Pass  Time : 0.0000274\n"
     ]
    }
   ],
   "source": [
    "# 直接定位\n",
    "class Solution(object):\n",
    "    def convert(self, s, numRows):\n",
    "        if numRows == 1:\n",
    "            return s \n",
    "        \n",
    "        res = [''] * numRows\n",
    "        n = numRows - 1\n",
    "        \n",
    "        for i, w in enumerate(s):\n",
    "            idx = i % (n * 2)\n",
    "            if idx not in (0, n):\n",
    "                idx = min(idx, n * 2 - idx)\n",
    "            res[idx] += w\n",
    "\n",
    "        return ''.join(res)\n",
    "    \n",
    "test(testcase,answer)"
   ]
  }
 ],
 "metadata": {
  "kernelspec": {
   "display_name": "Python 3",
   "language": "python",
   "name": "python3"
  },
  "language_info": {
   "codemirror_mode": {
    "name": "ipython",
    "version": 3
   },
   "file_extension": ".py",
   "mimetype": "text/x-python",
   "name": "python",
   "nbconvert_exporter": "python",
   "pygments_lexer": "ipython3",
   "version": "3.8.3"
  }
 },
 "nbformat": 4,
 "nbformat_minor": 4
}
